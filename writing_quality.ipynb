{
 "cells": [
  {
   "cell_type": "markdown",
   "id": "751fe18f",
   "metadata": {
    "papermill": {
     "duration": 0.008633,
     "end_time": "2023-12-31T18:59:57.489884",
     "exception": false,
     "start_time": "2023-12-31T18:59:57.481251",
     "status": "completed"
    },
    "tags": []
   },
   "source": [
    "<center><img src=\"https://keras.io/img/logo-small.png\" alt=\"Keras logo\" width=\"100\"><br/>\n",
    "This starter notebook is provided by the Keras team.</center>\n",
    "\n",
    "## Keras NLP starter guide here: https://keras.io/guides/keras_nlp/getting_started/\n",
    "\n",
    "__This starter notebook uses a transformer model trained from scratch with KerasNLP.__\n",
    "\n",
    "Transformer encoder architectures have been wildly successful on a variety of tasks in NLP (natural language processing). They compute vector-space representations of natural language that are suitable for use in deep learning models.\n",
    "\n",
    "\n",
    "![Transformer Architecture](https://miro.medium.com/v2/resize:fit:856/1*ZCFSvkKtppgew3cc7BIaug.png)\n",
    "\n",
    "This notebook contains complete code to train a transformer from scratch to perform a time serie prediction task.\n",
    "\n",
    "**Our model will assign a mark from 0 to 6 to predict overall writing quality.**\n",
    "\n",
    "\n",
    "In this notebook, you will:\n",
    "\n",
    "- Load the KeystrokeLogging dataset\n",
    "- Explore the dataset\n",
    "- Preprocess the data\n",
    "- Create a transformer from scratch using Keras NLP API\n",
    "- Train your own model\n",
    "- Generate the submission file\n"
   ]
  },
  {
   "cell_type": "code",
   "execution_count": 1,
   "id": "663ebe1d",
   "metadata": {
    "execution": {
     "iopub.execute_input": "2023-12-31T18:59:57.507603Z",
     "iopub.status.busy": "2023-12-31T18:59:57.507238Z",
     "iopub.status.idle": "2023-12-31T19:03:41.661522Z",
     "shell.execute_reply": "2023-12-31T19:03:41.660294Z"
    },
    "papermill": {
     "duration": 224.166036,
     "end_time": "2023-12-31T19:03:41.664052",
     "exception": false,
     "start_time": "2023-12-31T18:59:57.498016",
     "status": "completed"
    },
    "tags": []
   },
   "outputs": [
    {
     "name": "stdout",
     "output_type": "stream",
     "text": [
      "Collecting keras-core\n",
      "  Using cached keras_core-0.1.7-py3-none-any.whl.metadata (4.3 kB)\n",
      "Collecting absl-py (from keras-core)\n",
      "  Using cached absl_py-2.0.0-py3-none-any.whl.metadata (2.3 kB)\n",
      "Collecting numpy (from keras-core)\n",
      "  Using cached numpy-1.26.2-cp311-cp311-manylinux_2_17_x86_64.manylinux2014_x86_64.whl.metadata (61 kB)\n",
      "Collecting rich (from keras-core)\n",
      "  Using cached rich-13.7.0-py3-none-any.whl.metadata (18 kB)\n",
      "Collecting namex (from keras-core)\n",
      "  Using cached namex-0.0.7-py3-none-any.whl (5.8 kB)\n",
      "Collecting h5py (from keras-core)\n",
      "  Using cached h5py-3.10.0-cp311-cp311-manylinux_2_17_x86_64.manylinux2014_x86_64.whl.metadata (2.5 kB)\n",
      "Collecting dm-tree (from keras-core)\n",
      "  Using cached dm_tree-0.1.8-cp311-cp311-manylinux_2_17_x86_64.manylinux2014_x86_64.whl (152 kB)\n",
      "Collecting markdown-it-py>=2.2.0 (from rich->keras-core)\n",
      "  Using cached markdown_it_py-3.0.0-py3-none-any.whl.metadata (6.9 kB)\n",
      "Requirement already satisfied: pygments<3.0.0,>=2.13.0 in ./.venv/lib/python3.11/site-packages (from rich->keras-core) (2.17.2)\n",
      "Collecting mdurl~=0.1 (from markdown-it-py>=2.2.0->rich->keras-core)\n",
      "  Using cached mdurl-0.1.2-py3-none-any.whl (10.0 kB)\n",
      "Using cached keras_core-0.1.7-py3-none-any.whl (950 kB)\n",
      "Using cached absl_py-2.0.0-py3-none-any.whl (130 kB)\n",
      "Using cached h5py-3.10.0-cp311-cp311-manylinux_2_17_x86_64.manylinux2014_x86_64.whl (4.8 MB)\n",
      "Using cached numpy-1.26.2-cp311-cp311-manylinux_2_17_x86_64.manylinux2014_x86_64.whl (18.2 MB)\n",
      "Using cached rich-13.7.0-py3-none-any.whl (240 kB)\n",
      "Using cached markdown_it_py-3.0.0-py3-none-any.whl (87 kB)\n",
      "Installing collected packages: namex, dm-tree, numpy, mdurl, absl-py, markdown-it-py, h5py, rich, keras-core\n",
      "Successfully installed absl-py-2.0.0 dm-tree-0.1.8 h5py-3.10.0 keras-core-0.1.7 markdown-it-py-3.0.0 mdurl-0.1.2 namex-0.0.7 numpy-1.26.2 rich-13.7.0\n",
      "Collecting seaborn\n",
      "  Using cached seaborn-0.13.0-py3-none-any.whl.metadata (5.3 kB)\n",
      "Requirement already satisfied: numpy!=1.24.0,>=1.20 in ./.venv/lib/python3.11/site-packages (from seaborn) (1.26.2)\n",
      "Collecting pandas>=1.2 (from seaborn)\n",
      "  Using cached pandas-2.1.4-cp311-cp311-manylinux_2_17_x86_64.manylinux2014_x86_64.whl.metadata (18 kB)\n",
      "Collecting matplotlib!=3.6.1,>=3.3 (from seaborn)\n",
      "  Using cached matplotlib-3.8.2-cp311-cp311-manylinux_2_17_x86_64.manylinux2014_x86_64.whl.metadata (5.8 kB)\n",
      "Collecting contourpy>=1.0.1 (from matplotlib!=3.6.1,>=3.3->seaborn)\n",
      "  Using cached contourpy-1.2.0-cp311-cp311-manylinux_2_17_x86_64.manylinux2014_x86_64.whl.metadata (5.8 kB)\n",
      "Collecting cycler>=0.10 (from matplotlib!=3.6.1,>=3.3->seaborn)\n",
      "  Using cached cycler-0.12.1-py3-none-any.whl.metadata (3.8 kB)\n",
      "Collecting fonttools>=4.22.0 (from matplotlib!=3.6.1,>=3.3->seaborn)\n",
      "  Using cached fonttools-4.47.0-cp311-cp311-manylinux_2_17_x86_64.manylinux2014_x86_64.whl.metadata (157 kB)\n",
      "Collecting kiwisolver>=1.3.1 (from matplotlib!=3.6.1,>=3.3->seaborn)\n",
      "  Using cached kiwisolver-1.4.5-cp311-cp311-manylinux_2_17_x86_64.manylinux2014_x86_64.whl.metadata (6.4 kB)\n",
      "Requirement already satisfied: packaging>=20.0 in ./.venv/lib/python3.11/site-packages (from matplotlib!=3.6.1,>=3.3->seaborn) (23.2)\n",
      "Collecting pillow>=8 (from matplotlib!=3.6.1,>=3.3->seaborn)\n",
      "  Using cached Pillow-10.1.0-cp311-cp311-manylinux_2_28_x86_64.whl.metadata (9.5 kB)\n",
      "Collecting pyparsing>=2.3.1 (from matplotlib!=3.6.1,>=3.3->seaborn)\n",
      "  Using cached pyparsing-3.1.1-py3-none-any.whl.metadata (5.1 kB)\n",
      "Requirement already satisfied: python-dateutil>=2.7 in ./.venv/lib/python3.11/site-packages (from matplotlib!=3.6.1,>=3.3->seaborn) (2.8.2)\n",
      "Collecting pytz>=2020.1 (from pandas>=1.2->seaborn)\n",
      "  Using cached pytz-2023.3.post1-py2.py3-none-any.whl.metadata (22 kB)\n",
      "Collecting tzdata>=2022.1 (from pandas>=1.2->seaborn)\n",
      "  Using cached tzdata-2023.4-py2.py3-none-any.whl.metadata (1.4 kB)\n",
      "Requirement already satisfied: six>=1.5 in ./.venv/lib/python3.11/site-packages (from python-dateutil>=2.7->matplotlib!=3.6.1,>=3.3->seaborn) (1.16.0)\n",
      "Using cached seaborn-0.13.0-py3-none-any.whl (294 kB)\n",
      "Using cached matplotlib-3.8.2-cp311-cp311-manylinux_2_17_x86_64.manylinux2014_x86_64.whl (11.6 MB)\n",
      "Using cached pandas-2.1.4-cp311-cp311-manylinux_2_17_x86_64.manylinux2014_x86_64.whl (12.2 MB)\n",
      "Using cached contourpy-1.2.0-cp311-cp311-manylinux_2_17_x86_64.manylinux2014_x86_64.whl (313 kB)\n",
      "Using cached cycler-0.12.1-py3-none-any.whl (8.3 kB)\n",
      "Using cached fonttools-4.47.0-cp311-cp311-manylinux_2_17_x86_64.manylinux2014_x86_64.whl (4.9 MB)\n",
      "Using cached kiwisolver-1.4.5-cp311-cp311-manylinux_2_17_x86_64.manylinux2014_x86_64.whl (1.4 MB)\n",
      "Using cached Pillow-10.1.0-cp311-cp311-manylinux_2_28_x86_64.whl (3.6 MB)\n",
      "Using cached pyparsing-3.1.1-py3-none-any.whl (103 kB)\n",
      "Using cached pytz-2023.3.post1-py2.py3-none-any.whl (502 kB)\n",
      "Using cached tzdata-2023.4-py2.py3-none-any.whl (346 kB)\n",
      "Installing collected packages: pytz, tzdata, pyparsing, pillow, kiwisolver, fonttools, cycler, contourpy, pandas, matplotlib, seaborn\n",
      "Successfully installed contourpy-1.2.0 cycler-0.12.1 fonttools-4.47.0 kiwisolver-1.4.5 matplotlib-3.8.2 pandas-2.1.4 pillow-10.1.0 pyparsing-3.1.1 pytz-2023.3.post1 seaborn-0.13.0 tzdata-2023.4\n"
     ]
    }
   ],
   "source": [
    "!pip install keras-core --upgrade\n",
    "!pip install -q keras-nlp\n",
    "!pip install seaborn\n",
    "\n",
    "import os\n",
    "os.environ['KERAS_BACKEND'] = 'tensorflow'"
   ]
  },
  {
   "cell_type": "code",
   "execution_count": 2,
   "id": "fca155a1",
   "metadata": {
    "execution": {
     "iopub.execute_input": "2023-12-31T19:03:41.683826Z",
     "iopub.status.busy": "2023-12-31T19:03:41.683518Z",
     "iopub.status.idle": "2023-12-31T19:03:52.728853Z",
     "shell.execute_reply": "2023-12-31T19:03:52.727671Z"
    },
    "papermill": {
     "duration": 11.057921,
     "end_time": "2023-12-31T19:03:52.731190",
     "exception": false,
     "start_time": "2023-12-31T19:03:41.673269",
     "status": "completed"
    },
    "tags": []
   },
   "outputs": [
    {
     "name": "stderr",
     "output_type": "stream",
     "text": [
      "2023-12-31 15:09:19.163611: E external/local_xla/xla/stream_executor/cuda/cuda_dnn.cc:9261] Unable to register cuDNN factory: Attempting to register factory for plugin cuDNN when one has already been registered\n",
      "2023-12-31 15:09:19.163670: E external/local_xla/xla/stream_executor/cuda/cuda_fft.cc:607] Unable to register cuFFT factory: Attempting to register factory for plugin cuFFT when one has already been registered\n",
      "2023-12-31 15:09:19.165729: E external/local_xla/xla/stream_executor/cuda/cuda_blas.cc:1515] Unable to register cuBLAS factory: Attempting to register factory for plugin cuBLAS when one has already been registered\n",
      "2023-12-31 15:09:19.183428: I tensorflow/core/platform/cpu_feature_guard.cc:182] This TensorFlow binary is optimized to use available CPU instructions in performance-critical operations.\n",
      "To enable the following instructions: AVX2 FMA, in other operations, rebuild TensorFlow with the appropriate compiler flags.\n",
      "2023-12-31 15:09:21.199617: W tensorflow/compiler/tf2tensorrt/utils/py_utils.cc:38] TF-TRT Warning: Could not find TensorRT\n"
     ]
    },
    {
     "name": "stdout",
     "output_type": "stream",
     "text": [
      "Using TensorFlow backend\n",
      "TensorFlow version: 2.15.0\n",
      "Keras version: 0.1.7\n",
      "KerasNLP version: 0.6.4\n"
     ]
    }
   ],
   "source": [
    "import numpy as np # linear algebra\n",
    "import pandas as pd # data processing, CSV file I/O (e.g. pd.read_csv)\n",
    "import tensorflow as tf\n",
    "import keras_core as keras\n",
    "import keras_nlp\n",
    "import seaborn as sns\n",
    "import matplotlib.pyplot as plt\n",
    "import os\n",
    "\n",
    "print(\"TensorFlow version:\", tf.__version__)\n",
    "print(\"Keras version:\", keras.__version__)\n",
    "print(\"KerasNLP version:\", keras_nlp.__version__)"
   ]
  },
  {
   "cell_type": "markdown",
   "id": "f1c60df8",
   "metadata": {
    "papermill": {
     "duration": 0.009312,
     "end_time": "2023-12-31T19:03:52.750136",
     "exception": false,
     "start_time": "2023-12-31T19:03:52.740824",
     "status": "completed"
    },
    "tags": []
   },
   "source": [
    "# Load the Keystroke Logging dataset\n",
    "Let's have a look at all the data files"
   ]
  },
  {
   "cell_type": "code",
   "execution_count": 3,
   "id": "e64ad66c",
   "metadata": {
    "execution": {
     "iopub.execute_input": "2023-12-31T19:03:52.771842Z",
     "iopub.status.busy": "2023-12-31T19:03:52.770663Z",
     "iopub.status.idle": "2023-12-31T19:03:52.780080Z",
     "shell.execute_reply": "2023-12-31T19:03:52.778735Z"
    },
    "papermill": {
     "duration": 0.022608,
     "end_time": "2023-12-31T19:03:52.782217",
     "exception": false,
     "start_time": "2023-12-31T19:03:52.759609",
     "status": "completed"
    },
    "tags": []
   },
   "outputs": [
    {
     "name": "stdout",
     "output_type": "stream",
     "text": [
      "/kaggle/input/linking-writing-processes-to-writing-quality/sample_submission.csv\n",
      "/kaggle/input/linking-writing-processes-to-writing-quality/test_logs.csv\n",
      "/kaggle/input/linking-writing-processes-to-writing-quality/train_scores.csv\n",
      "/kaggle/input/linking-writing-processes-to-writing-quality/train_logs.csv\n"
     ]
    }
   ],
   "source": [
    "DATA_DIR = '/kaggle/input/linking-writing-processes-to-writing-quality/'\n",
    "\n",
    "for dirname, _, filenames in os.walk(DATA_DIR):\n",
    "    for filename in filenames:\n",
    "        print(os.path.join(dirname, filename))"
   ]
  },
  {
   "cell_type": "markdown",
   "id": "9c9a12d6",
   "metadata": {
    "papermill": {
     "duration": 0.009485,
     "end_time": "2023-12-31T19:03:52.801339",
     "exception": false,
     "start_time": "2023-12-31T19:03:52.791854",
     "status": "completed"
    },
    "tags": []
   },
   "source": [
    "## Data dictionary\n",
    "\n",
    "Let's dicover the data which are composed of :\n",
    "- events\n",
    "- activities\n",
    "- scores\n",
    "\n",
    "**Events**\n",
    "\n",
    "| Column             | Definition                                                                |\n",
    "| ------------------ | ------------------------------------------------------------------------- |\n",
    "| essay_id_comp      | The unique ID of the essay                                                |\n",
    "| event_id           | The index of the event, ordered chronologically                           |\n",
    "| down_time          | The time of the down event in milliseconds                                |\n",
    "| up_time            | The time of the up event in milliseconds                                  |\n",
    "| action_time        | The duration of the event (the difference between down_time and up_time)  |\n",
    "| activity           | The category of activity which the event belongs to                       |\n",
    "| down_event         | The name of the event when the key/mouse is pressed                       |\n",
    "| up_event           | The name of the event when the key/mouse is released                      |\n",
    "| text_change        | The text that changed as a result of the event (if any)                   |\n",
    "| cursor_position    | The character index of the text cursor after the event                    |\n",
    "| word_count         | The word count of the essay after the event                               |\n",
    "\n",
    "**Activities**\n",
    "\n",
    "| Activity Name                  | Definition                                                                                 |\n",
    "| ------------------------------ | ------------------------------------------------------------------------------------------ |\n",
    "| Nonproduction                  | The event does not alter the text in any way                                               |\n",
    "| Input                          | The event adds text to the essay                                                           |\n",
    "| Remove/Cut                     | The event removes text from the essay                                                      |\n",
    "| Paste                          | The event changes the text through a paste input                                           |\n",
    "| Replace                        | The event replaces a section of text with another string                                   |\n",
    "| Move From [x1, y1] To [x2, y2] | The event moves a section of text spanning character index x1, y1 to a new location x2, y2 |\n",
    "\n",
    "**Scores**\n",
    "\n",
    "| Column         | Definition                                                                        |\n",
    "| -------------- | --------------------------------------------------------------------------------- |\n",
    "| essay_id_comp  | The unique ID of the essay                                                        |\n",
    "| score          | The score the essay received out of 6 (the prediction target for the competition) |\n",
    "| split          | The train-test split of the essay                                                 |"
   ]
  },
  {
   "cell_type": "markdown",
   "id": "4f2d4578",
   "metadata": {
    "papermill": {
     "duration": 0.009797,
     "end_time": "2023-12-31T19:03:52.820797",
     "exception": false,
     "start_time": "2023-12-31T19:03:52.811000",
     "status": "completed"
    },
    "tags": []
   },
   "source": [
    "# Explore the dataset\n",
    "\n",
    "Let's look at the distribution of labels in the training set."
   ]
  },
  {
   "cell_type": "code",
   "execution_count": 4,
   "id": "c9ce11c1",
   "metadata": {
    "execution": {
     "iopub.execute_input": "2023-12-31T19:03:52.842458Z",
     "iopub.status.busy": "2023-12-31T19:03:52.841519Z",
     "iopub.status.idle": "2023-12-31T19:03:52.872131Z",
     "shell.execute_reply": "2023-12-31T19:03:52.871063Z"
    },
    "papermill": {
     "duration": 0.044069,
     "end_time": "2023-12-31T19:03:52.874578",
     "exception": false,
     "start_time": "2023-12-31T19:03:52.830509",
     "status": "completed"
    },
    "tags": []
   },
   "outputs": [
    {
     "data": {
      "text/html": [
       "<div>\n",
       "<style scoped>\n",
       "    .dataframe tbody tr th:only-of-type {\n",
       "        vertical-align: middle;\n",
       "    }\n",
       "\n",
       "    .dataframe tbody tr th {\n",
       "        vertical-align: top;\n",
       "    }\n",
       "\n",
       "    .dataframe thead th {\n",
       "        text-align: right;\n",
       "    }\n",
       "</style>\n",
       "<table border=\"1\" class=\"dataframe\">\n",
       "  <thead>\n",
       "    <tr style=\"text-align: right;\">\n",
       "      <th></th>\n",
       "      <th>id</th>\n",
       "      <th>score</th>\n",
       "    </tr>\n",
       "  </thead>\n",
       "  <tbody>\n",
       "    <tr>\n",
       "      <th>0</th>\n",
       "      <td>001519c8</td>\n",
       "      <td>3.5</td>\n",
       "    </tr>\n",
       "    <tr>\n",
       "      <th>1</th>\n",
       "      <td>0022f953</td>\n",
       "      <td>3.5</td>\n",
       "    </tr>\n",
       "    <tr>\n",
       "      <th>2</th>\n",
       "      <td>0042269b</td>\n",
       "      <td>6.0</td>\n",
       "    </tr>\n",
       "    <tr>\n",
       "      <th>3</th>\n",
       "      <td>0059420b</td>\n",
       "      <td>2.0</td>\n",
       "    </tr>\n",
       "    <tr>\n",
       "      <th>4</th>\n",
       "      <td>0075873a</td>\n",
       "      <td>4.0</td>\n",
       "    </tr>\n",
       "  </tbody>\n",
       "</table>\n",
       "</div>"
      ],
      "text/plain": [
       "         id  score\n",
       "0  001519c8    3.5\n",
       "1  0022f953    3.5\n",
       "2  0042269b    6.0\n",
       "3  0059420b    2.0\n",
       "4  0075873a    4.0"
      ]
     },
     "execution_count": 4,
     "metadata": {},
     "output_type": "execute_result"
    }
   ],
   "source": [
    "df_train_scores = pd.read_csv(DATA_DIR + \"train_scores.csv\")\n",
    "df_train_scores.head()"
   ]
  },
  {
   "cell_type": "code",
   "execution_count": 5,
   "id": "ffe8f689",
   "metadata": {
    "execution": {
     "iopub.execute_input": "2023-12-31T19:03:52.898816Z",
     "iopub.status.busy": "2023-12-31T19:03:52.897879Z",
     "iopub.status.idle": "2023-12-31T19:03:53.487879Z",
     "shell.execute_reply": "2023-12-31T19:03:53.486871Z"
    },
    "papermill": {
     "duration": 0.604919,
     "end_time": "2023-12-31T19:03:53.490091",
     "exception": false,
     "start_time": "2023-12-31T19:03:52.885172",
     "status": "completed"
    },
    "tags": []
   },
   "outputs": [
    {
     "data": {
      "text/plain": [
       "Text(0.5, 1.0, 'Distribution of scores')"
      ]
     },
     "execution_count": 5,
     "metadata": {},
     "output_type": "execute_result"
    },
    {
     "data": {
      "image/png": "[encoded data removed]",
      "text/plain": [
       "<Figure size 1200x400 with 1 Axes>"
      ]
     },
     "metadata": {},
     "output_type": "display_data"
    }
   ],
   "source": [
    "f, ax = plt.subplots(figsize=(12, 4))\n",
    "\n",
    "sns.despine()\n",
    "ax = sns.countplot(data=df_train_scores,\n",
    "                   x=\"score\")\n",
    "\n",
    "ax.set_title(\"Distribution of scores\")"
   ]
  },
  {
   "cell_type": "markdown",
   "id": "aaa9a3db",
   "metadata": {
    "papermill": {
     "duration": 0.010335,
     "end_time": "2023-12-31T19:03:53.511044",
     "exception": false,
     "start_time": "2023-12-31T19:03:53.500709",
     "status": "completed"
    },
    "tags": []
   },
   "source": [
    "# Event"
   ]
  },
  {
   "cell_type": "code",
   "execution_count": 6,
   "id": "b1a5ec22",
   "metadata": {
    "execution": {
     "iopub.execute_input": "2023-12-31T19:03:53.533840Z",
     "iopub.status.busy": "2023-12-31T19:03:53.532947Z",
     "iopub.status.idle": "2023-12-31T19:04:07.860402Z",
     "shell.execute_reply": "2023-12-31T19:04:07.859178Z"
    },
    "papermill": {
     "duration": 14.341309,
     "end_time": "2023-12-31T19:04:07.862634",
     "exception": false,
     "start_time": "2023-12-31T19:03:53.521325",
     "status": "completed"
    },
    "tags": []
   },
   "outputs": [
    {
     "name": "stdout",
     "output_type": "stream",
     "text": [
      "(8405898, 11)\n",
      "(6, 11)\n"
     ]
    },
    {
     "data": {
      "text/html": [
       "<div>\n",
       "<style scoped>\n",
       "    .dataframe tbody tr th:only-of-type {\n",
       "        vertical-align: middle;\n",
       "    }\n",
       "\n",
       "    .dataframe tbody tr th {\n",
       "        vertical-align: top;\n",
       "    }\n",
       "\n",
       "    .dataframe thead th {\n",
       "        text-align: right;\n",
       "    }\n",
       "</style>\n",
       "<table border=\"1\" class=\"dataframe\">\n",
       "  <thead>\n",
       "    <tr style=\"text-align: right;\">\n",
       "      <th></th>\n",
       "      <th>id</th>\n",
       "      <th>event_id</th>\n",
       "      <th>down_time</th>\n",
       "      <th>up_time</th>\n",
       "      <th>action_time</th>\n",
       "      <th>activity</th>\n",
       "      <th>down_event</th>\n",
       "      <th>up_event</th>\n",
       "      <th>text_change</th>\n",
       "      <th>cursor_position</th>\n",
       "      <th>word_count</th>\n",
       "    </tr>\n",
       "  </thead>\n",
       "  <tbody>\n",
       "    <tr>\n",
       "      <th>0</th>\n",
       "      <td>001519c8</td>\n",
       "      <td>1</td>\n",
       "      <td>4526</td>\n",
       "      <td>4557</td>\n",
       "      <td>31</td>\n",
       "      <td>Nonproduction</td>\n",
       "      <td>Leftclick</td>\n",
       "      <td>Leftclick</td>\n",
       "      <td>NoChange</td>\n",
       "      <td>0</td>\n",
       "      <td>0</td>\n",
       "    </tr>\n",
       "    <tr>\n",
       "      <th>1</th>\n",
       "      <td>001519c8</td>\n",
       "      <td>2</td>\n",
       "      <td>4558</td>\n",
       "      <td>4962</td>\n",
       "      <td>404</td>\n",
       "      <td>Nonproduction</td>\n",
       "      <td>Leftclick</td>\n",
       "      <td>Leftclick</td>\n",
       "      <td>NoChange</td>\n",
       "      <td>0</td>\n",
       "      <td>0</td>\n",
       "    </tr>\n",
       "    <tr>\n",
       "      <th>2</th>\n",
       "      <td>001519c8</td>\n",
       "      <td>3</td>\n",
       "      <td>106571</td>\n",
       "      <td>106571</td>\n",
       "      <td>0</td>\n",
       "      <td>Nonproduction</td>\n",
       "      <td>Shift</td>\n",
       "      <td>Shift</td>\n",
       "      <td>NoChange</td>\n",
       "      <td>0</td>\n",
       "      <td>0</td>\n",
       "    </tr>\n",
       "    <tr>\n",
       "      <th>3</th>\n",
       "      <td>001519c8</td>\n",
       "      <td>4</td>\n",
       "      <td>106686</td>\n",
       "      <td>106777</td>\n",
       "      <td>91</td>\n",
       "      <td>Input</td>\n",
       "      <td>q</td>\n",
       "      <td>q</td>\n",
       "      <td>q</td>\n",
       "      <td>1</td>\n",
       "      <td>1</td>\n",
       "    </tr>\n",
       "    <tr>\n",
       "      <th>4</th>\n",
       "      <td>001519c8</td>\n",
       "      <td>5</td>\n",
       "      <td>107196</td>\n",
       "      <td>107323</td>\n",
       "      <td>127</td>\n",
       "      <td>Input</td>\n",
       "      <td>q</td>\n",
       "      <td>q</td>\n",
       "      <td>q</td>\n",
       "      <td>2</td>\n",
       "      <td>1</td>\n",
       "    </tr>\n",
       "  </tbody>\n",
       "</table>\n",
       "</div>"
      ],
      "text/plain": [
       "         id  event_id  down_time  up_time  action_time       activity  \\\n",
       "0  001519c8         1       4526     4557           31  Nonproduction   \n",
       "1  001519c8         2       4558     4962          404  Nonproduction   \n",
       "2  001519c8         3     106571   106571            0  Nonproduction   \n",
       "3  001519c8         4     106686   106777           91          Input   \n",
       "4  001519c8         5     107196   107323          127          Input   \n",
       "\n",
       "  down_event   up_event text_change  cursor_position  word_count  \n",
       "0  Leftclick  Leftclick    NoChange                0           0  \n",
       "1  Leftclick  Leftclick    NoChange                0           0  \n",
       "2      Shift      Shift    NoChange                0           0  \n",
       "3          q          q           q                1           1  \n",
       "4          q          q           q                2           1  "
      ]
     },
     "execution_count": 6,
     "metadata": {},
     "output_type": "execute_result"
    }
   ],
   "source": [
    "df_train_logs = pd.read_csv(DATA_DIR + \"train_logs.csv\")\n",
    "df_test_logs = pd.read_csv(DATA_DIR + \"test_logs.csv\")\n",
    "\n",
    "\n",
    "print(df_train_logs.shape)\n",
    "print(df_test_logs.shape)\n",
    "df_train_logs.head()"
   ]
  },
  {
   "cell_type": "code",
   "execution_count": 7,
   "id": "e285a291",
   "metadata": {
    "execution": {
     "iopub.execute_input": "2023-12-31T19:04:07.884958Z",
     "iopub.status.busy": "2023-12-31T19:04:07.884622Z",
     "iopub.status.idle": "2023-12-31T19:04:10.895430Z",
     "shell.execute_reply": "2023-12-31T19:04:10.894354Z"
    },
    "papermill": {
     "duration": 3.02427,
     "end_time": "2023-12-31T19:04:10.897654",
     "exception": false,
     "start_time": "2023-12-31T19:04:07.873384",
     "status": "completed"
    },
    "tags": []
   },
   "outputs": [
    {
     "name": "stdout",
     "output_type": "stream",
     "text": [
      "The average of the number of events per essay in the train dataset is : 1701.0\n",
      "The average of the number of events per essay in the test dataset is : 2.0\n"
     ]
    },
    {
     "name": "stderr",
     "output_type": "stream",
     "text": [
      "/opt/conda/lib/python3.10/site-packages/seaborn/axisgrid.py:118: UserWarning: The figure layout has changed to tight\n",
      "  self._figure.tight_layout(*args, **kwargs)\n",
      "/opt/conda/lib/python3.10/site-packages/seaborn/axisgrid.py:118: UserWarning: The figure layout has changed to tight\n",
      "  self._figure.tight_layout(*args, **kwargs)\n"
     ]
    },
    {
     "data": {
      "text/plain": [
       "Text(0.5, 0.98, 'Distribution of the number of events per essay - Test dataset')"
      ]
     },
     "execution_count": 7,
     "metadata": {},
     "output_type": "execute_result"
    },
    {
     "data": {
      "text/plain": [
       "<Figure size 3000x1800 with 0 Axes>"
      ]
     },
     "metadata": {},
     "output_type": "display_data"
    },
    {
     "data": {
      "image/png": "[encoded data removed]",
      "text/plain": [
       "<Figure size 500x500 with 1 Axes>"
      ]
     },
     "metadata": {},
     "output_type": "display_data"
    },
    {
     "data": {
      "image/png": "[encoded data removed]",
      "text/plain": [
       "<Figure size 500x500 with 1 Axes>"
      ]
     },
     "metadata": {},
     "output_type": "display_data"
    }
   ],
   "source": [
    "print('The average of the number of events per essay in the train dataset is : ' + str(df_train_logs.groupby(\"id\").mean(numeric_only=True)[\"event_id\"].mean().round(0)))\n",
    "print('The average of the number of events per essay in the test dataset is : ' + str(df_test_logs.groupby(\"id\").mean(numeric_only=True)[\"event_id\"].mean().round(0)))\n",
    "\n",
    "fig = plt.figure(figsize=(30,18))\n",
    "plot = sns.displot(data=df_train_logs[[\"id\",\"event_id\"]].groupby(\"id\").count(),\n",
    "                 x=\"event_id\", bins=30, kde=True)\n",
    "plot.fig.suptitle(\"Distribution of the number of events per essay - Train dataset\")\n",
    "\n",
    "plot = sns.displot(df_test_logs[[\"id\",\"event_id\"]].groupby(\"id\").count(),\n",
    "                   x=\"event_id\", bins=30, kde=True)\n",
    "plot.fig.suptitle(\"Distribution of the number of events per essay - Test dataset\")"
   ]
  },
  {
   "cell_type": "markdown",
   "id": "fcb15339",
   "metadata": {
    "papermill": {
     "duration": 0.011472,
     "end_time": "2023-12-31T19:04:10.921018",
     "exception": false,
     "start_time": "2023-12-31T19:04:10.909546",
     "status": "completed"
    },
    "tags": []
   },
   "source": [
    "Now, let's discover the events distribution."
   ]
  },
  {
   "cell_type": "code",
   "execution_count": 8,
   "id": "fda08cc5",
   "metadata": {
    "execution": {
     "iopub.execute_input": "2023-12-31T19:04:10.945390Z",
     "iopub.status.busy": "2023-12-31T19:04:10.945059Z",
     "iopub.status.idle": "2023-12-31T19:04:11.975747Z",
     "shell.execute_reply": "2023-12-31T19:04:11.974853Z"
    },
    "papermill": {
     "duration": 1.045253,
     "end_time": "2023-12-31T19:04:11.977791",
     "exception": false,
     "start_time": "2023-12-31T19:04:10.932538",
     "status": "completed"
    },
    "tags": []
   },
   "outputs": [
    {
     "data": {
      "text/html": [
       "<div>\n",
       "<style scoped>\n",
       "    .dataframe tbody tr th:only-of-type {\n",
       "        vertical-align: middle;\n",
       "    }\n",
       "\n",
       "    .dataframe tbody tr th {\n",
       "        vertical-align: top;\n",
       "    }\n",
       "\n",
       "    .dataframe thead th {\n",
       "        text-align: right;\n",
       "    }\n",
       "</style>\n",
       "<table border=\"1\" class=\"dataframe\">\n",
       "  <thead>\n",
       "    <tr style=\"text-align: right;\">\n",
       "      <th></th>\n",
       "      <th>up_event</th>\n",
       "      <th>count</th>\n",
       "    </tr>\n",
       "  </thead>\n",
       "  <tbody>\n",
       "    <tr>\n",
       "      <th>0</th>\n",
       "      <td>q</td>\n",
       "      <td>5364789</td>\n",
       "    </tr>\n",
       "    <tr>\n",
       "      <th>1</th>\n",
       "      <td>Space</td>\n",
       "      <td>1207128</td>\n",
       "    </tr>\n",
       "    <tr>\n",
       "      <th>2</th>\n",
       "      <td>Backspace</td>\n",
       "      <td>964089</td>\n",
       "    </tr>\n",
       "    <tr>\n",
       "      <th>3</th>\n",
       "      <td>Shift</td>\n",
       "      <td>334227</td>\n",
       "    </tr>\n",
       "    <tr>\n",
       "      <th>4</th>\n",
       "      <td>ArrowRight</td>\n",
       "      <td>121338</td>\n",
       "    </tr>\n",
       "    <tr>\n",
       "      <th>...</th>\n",
       "      <td>...</td>\n",
       "      <td>...</td>\n",
       "    </tr>\n",
       "    <tr>\n",
       "      <th>117</th>\n",
       "      <td>F1</td>\n",
       "      <td>1</td>\n",
       "    </tr>\n",
       "    <tr>\n",
       "      <th>116</th>\n",
       "      <td>k</td>\n",
       "      <td>1</td>\n",
       "    </tr>\n",
       "    <tr>\n",
       "      <th>115</th>\n",
       "      <td>Pause</td>\n",
       "      <td>1</td>\n",
       "    </tr>\n",
       "    <tr>\n",
       "      <th>114</th>\n",
       "      <td>Â´</td>\n",
       "      <td>1</td>\n",
       "    </tr>\n",
       "    <tr>\n",
       "      <th>129</th>\n",
       "      <td>F6</td>\n",
       "      <td>1</td>\n",
       "    </tr>\n",
       "  </tbody>\n",
       "</table>\n",
       "<p>130 rows × 2 columns</p>\n",
       "</div>"
      ],
      "text/plain": [
       "       up_event    count\n",
       "0             q  5364789\n",
       "1         Space  1207128\n",
       "2     Backspace   964089\n",
       "3         Shift   334227\n",
       "4    ArrowRight   121338\n",
       "..          ...      ...\n",
       "117          F1        1\n",
       "116           k        1\n",
       "115       Pause        1\n",
       "114          Â´        1\n",
       "129          F6        1\n",
       "\n",
       "[130 rows x 2 columns]"
      ]
     },
     "execution_count": 8,
     "metadata": {},
     "output_type": "execute_result"
    }
   ],
   "source": [
    "df_event_count = df_train_logs['up_event'].value_counts().to_frame().reset_index().sort_values(by='count', ascending=[False])\n",
    "df_event_count"
   ]
  },
  {
   "cell_type": "code",
   "execution_count": 9,
   "id": "92a7e294",
   "metadata": {
    "execution": {
     "iopub.execute_input": "2023-12-31T19:04:12.002950Z",
     "iopub.status.busy": "2023-12-31T19:04:12.002651Z",
     "iopub.status.idle": "2023-12-31T19:04:12.008840Z",
     "shell.execute_reply": "2023-12-31T19:04:12.007984Z"
    },
    "papermill": {
     "duration": 0.020727,
     "end_time": "2023-12-31T19:04:12.010679",
     "exception": false,
     "start_time": "2023-12-31T19:04:11.989952",
     "status": "completed"
    },
    "tags": []
   },
   "outputs": [
    {
     "data": {
      "text/plain": [
       "array(['q', 'Space', 'Backspace', 'Shift', 'ArrowRight', 'Leftclick',\n",
       "       'ArrowLeft', '.', ',', 'ArrowDown', 'ArrowUp', 'Enter', 'CapsLock',\n",
       "       \"'\", 'Delete', 'Unidentified', 'Control', '\"', '-', '?', ';', '=',\n",
       "       'Tab', '/', 'Rightclick', ':', '(', ')', '\\\\', 'ContextMenu',\n",
       "       'End', '!', 'Meta', 'Alt', 'c', '[', 'v', 'NumLock', 'Insert',\n",
       "       'Home', 'z', 'a', 'AudioVolumeDown', 'F2', 'x', 't',\n",
       "       'AudioVolumeUp', '$', 'i', '>', ']', 's', '*', '%', 'w', '&',\n",
       "       'Dead', 'm', 'Escape', 'ModeChange', 'F3', '<', 'AudioVolumeMute',\n",
       "       '+', 'o', 'F15', 'ScrollLock', 'PageDown', 'Process', 'h', 'b',\n",
       "       'e', 'p', '_', 'f', '{', 'PageUp', '`', 'r', '#', '0', '1',\n",
       "       'Middleclick', 'F12', '5', '\\x97', 'OS', '@', 'n', 'y', 'g', 'F11',\n",
       "       'Ä±', 'MediaTrackNext', 'l', 'Clear', 'MediaPlayPause', 'd', 'V',\n",
       "       'j', 'u', 'â\\x80\\x93', '}', '~', 'AltGraph', '2', '|',\n",
       "       'Unknownclick', 'A', 'MediaTrackPrevious', '^', '\\x96', '¿', '¡',\n",
       "       'M', 'S', 'T', 'Cancel', 'Ë\\x86', 'F10', '\\x80', 'C', 'Å\\x9f',\n",
       "       '\\x9b', 'ä', 'F1', 'k', 'Pause', 'Â´', 'F6'], dtype=object)"
      ]
     },
     "execution_count": 9,
     "metadata": {},
     "output_type": "execute_result"
    }
   ],
   "source": [
    "vocab_event = df_event_count[\"up_event\"].values\n",
    "vocab_event"
   ]
  },
  {
   "cell_type": "markdown",
   "id": "83d7a391",
   "metadata": {
    "papermill": {
     "duration": 0.011652,
     "end_time": "2023-12-31T19:04:12.034191",
     "exception": false,
     "start_time": "2023-12-31T19:04:12.022539",
     "status": "completed"
    },
    "tags": []
   },
   "source": [
    "# Prepare data\n",
    "\n",
    "Let's create the sentences for the transformer model.\n",
    "\n",
    "First, pivot the table"
   ]
  },
  {
   "cell_type": "code",
   "execution_count": 10,
   "id": "cff15dff",
   "metadata": {
    "execution": {
     "iopub.execute_input": "2023-12-31T19:04:12.058983Z",
     "iopub.status.busy": "2023-12-31T19:04:12.058663Z",
     "iopub.status.idle": "2023-12-31T19:04:16.675880Z",
     "shell.execute_reply": "2023-12-31T19:04:16.674896Z"
    },
    "papermill": {
     "duration": 4.632067,
     "end_time": "2023-12-31T19:04:16.678052",
     "exception": false,
     "start_time": "2023-12-31T19:04:12.045985",
     "status": "completed"
    },
    "tags": []
   },
   "outputs": [
    {
     "data": {
      "text/html": [
       "<div>\n",
       "<style scoped>\n",
       "    .dataframe tbody tr th:only-of-type {\n",
       "        vertical-align: middle;\n",
       "    }\n",
       "\n",
       "    .dataframe tbody tr th {\n",
       "        vertical-align: top;\n",
       "    }\n",
       "\n",
       "    .dataframe thead th {\n",
       "        text-align: right;\n",
       "    }\n",
       "</style>\n",
       "<table border=\"1\" class=\"dataframe\">\n",
       "  <thead>\n",
       "    <tr style=\"text-align: right;\">\n",
       "      <th>event_id</th>\n",
       "      <th>1</th>\n",
       "      <th>2</th>\n",
       "      <th>3</th>\n",
       "      <th>4</th>\n",
       "      <th>5</th>\n",
       "      <th>6</th>\n",
       "      <th>7</th>\n",
       "      <th>8</th>\n",
       "      <th>9</th>\n",
       "      <th>10</th>\n",
       "      <th>...</th>\n",
       "      <th>1690</th>\n",
       "      <th>1691</th>\n",
       "      <th>1692</th>\n",
       "      <th>1693</th>\n",
       "      <th>1694</th>\n",
       "      <th>1695</th>\n",
       "      <th>1696</th>\n",
       "      <th>1697</th>\n",
       "      <th>1698</th>\n",
       "      <th>1699</th>\n",
       "    </tr>\n",
       "    <tr>\n",
       "      <th>id</th>\n",
       "      <th></th>\n",
       "      <th></th>\n",
       "      <th></th>\n",
       "      <th></th>\n",
       "      <th></th>\n",
       "      <th></th>\n",
       "      <th></th>\n",
       "      <th></th>\n",
       "      <th></th>\n",
       "      <th></th>\n",
       "      <th></th>\n",
       "      <th></th>\n",
       "      <th></th>\n",
       "      <th></th>\n",
       "      <th></th>\n",
       "      <th></th>\n",
       "      <th></th>\n",
       "      <th></th>\n",
       "      <th></th>\n",
       "      <th></th>\n",
       "      <th></th>\n",
       "    </tr>\n",
       "  </thead>\n",
       "  <tbody>\n",
       "    <tr>\n",
       "      <th>001519c8</th>\n",
       "      <td>Leftclick</td>\n",
       "      <td>Leftclick</td>\n",
       "      <td>Shift</td>\n",
       "      <td>q</td>\n",
       "      <td>q</td>\n",
       "      <td>q</td>\n",
       "      <td>q</td>\n",
       "      <td>q</td>\n",
       "      <td>q</td>\n",
       "      <td>Space</td>\n",
       "      <td>...</td>\n",
       "      <td>q</td>\n",
       "      <td>q</td>\n",
       "      <td>q</td>\n",
       "      <td>q</td>\n",
       "      <td>q</td>\n",
       "      <td>Space</td>\n",
       "      <td>Backspace</td>\n",
       "      <td>.</td>\n",
       "      <td>Space</td>\n",
       "      <td>Space</td>\n",
       "    </tr>\n",
       "    <tr>\n",
       "      <th>0022f953</th>\n",
       "      <td>Leftclick</td>\n",
       "      <td>Shift</td>\n",
       "      <td>q</td>\n",
       "      <td>q</td>\n",
       "      <td>q</td>\n",
       "      <td>q</td>\n",
       "      <td>Space</td>\n",
       "      <td>q</td>\n",
       "      <td>q</td>\n",
       "      <td>Space</td>\n",
       "      <td>...</td>\n",
       "      <td>Shift</td>\n",
       "      <td>q</td>\n",
       "      <td>q</td>\n",
       "      <td>q</td>\n",
       "      <td>q</td>\n",
       "      <td>q</td>\n",
       "      <td>q</td>\n",
       "      <td>Space</td>\n",
       "      <td>q</td>\n",
       "      <td>q</td>\n",
       "    </tr>\n",
       "    <tr>\n",
       "      <th>0042269b</th>\n",
       "      <td>Leftclick</td>\n",
       "      <td>Shift</td>\n",
       "      <td>q</td>\n",
       "      <td>q</td>\n",
       "      <td>q</td>\n",
       "      <td>q</td>\n",
       "      <td>q</td>\n",
       "      <td>q</td>\n",
       "      <td>q</td>\n",
       "      <td>Space</td>\n",
       "      <td>...</td>\n",
       "      <td>q</td>\n",
       "      <td>q</td>\n",
       "      <td>q</td>\n",
       "      <td>q</td>\n",
       "      <td>q</td>\n",
       "      <td>q</td>\n",
       "      <td>q</td>\n",
       "      <td>Space</td>\n",
       "      <td>q</td>\n",
       "      <td>q</td>\n",
       "    </tr>\n",
       "    <tr>\n",
       "      <th>0059420b</th>\n",
       "      <td>Leftclick</td>\n",
       "      <td>Leftclick</td>\n",
       "      <td>Shift</td>\n",
       "      <td>Shift</td>\n",
       "      <td>Shift</td>\n",
       "      <td>Shift</td>\n",
       "      <td>Shift</td>\n",
       "      <td>Shift</td>\n",
       "      <td>Shift</td>\n",
       "      <td>Shift</td>\n",
       "      <td>...</td>\n",
       "      <td></td>\n",
       "      <td></td>\n",
       "      <td></td>\n",
       "      <td></td>\n",
       "      <td></td>\n",
       "      <td></td>\n",
       "      <td></td>\n",
       "      <td></td>\n",
       "      <td></td>\n",
       "      <td></td>\n",
       "    </tr>\n",
       "    <tr>\n",
       "      <th>0075873a</th>\n",
       "      <td>Leftclick</td>\n",
       "      <td>Shift</td>\n",
       "      <td>q</td>\n",
       "      <td>q</td>\n",
       "      <td>q</td>\n",
       "      <td>q</td>\n",
       "      <td>q</td>\n",
       "      <td>q</td>\n",
       "      <td>q</td>\n",
       "      <td>q</td>\n",
       "      <td>...</td>\n",
       "      <td>Space</td>\n",
       "      <td>q</td>\n",
       "      <td>q</td>\n",
       "      <td>q</td>\n",
       "      <td>Space</td>\n",
       "      <td>q</td>\n",
       "      <td>q</td>\n",
       "      <td>q</td>\n",
       "      <td>q</td>\n",
       "      <td>q</td>\n",
       "    </tr>\n",
       "    <tr>\n",
       "      <th>...</th>\n",
       "      <td>...</td>\n",
       "      <td>...</td>\n",
       "      <td>...</td>\n",
       "      <td>...</td>\n",
       "      <td>...</td>\n",
       "      <td>...</td>\n",
       "      <td>...</td>\n",
       "      <td>...</td>\n",
       "      <td>...</td>\n",
       "      <td>...</td>\n",
       "      <td>...</td>\n",
       "      <td>...</td>\n",
       "      <td>...</td>\n",
       "      <td>...</td>\n",
       "      <td>...</td>\n",
       "      <td>...</td>\n",
       "      <td>...</td>\n",
       "      <td>...</td>\n",
       "      <td>...</td>\n",
       "      <td>...</td>\n",
       "      <td>...</td>\n",
       "    </tr>\n",
       "    <tr>\n",
       "      <th>ffb8c745</th>\n",
       "      <td>Leftclick</td>\n",
       "      <td>Tab</td>\n",
       "      <td>Leftclick</td>\n",
       "      <td>Space</td>\n",
       "      <td>Space</td>\n",
       "      <td>Space</td>\n",
       "      <td>Space</td>\n",
       "      <td>Space</td>\n",
       "      <td>Shift</td>\n",
       "      <td>q</td>\n",
       "      <td>...</td>\n",
       "      <td>Backspace</td>\n",
       "      <td>Backspace</td>\n",
       "      <td>Backspace</td>\n",
       "      <td>Backspace</td>\n",
       "      <td>Backspace</td>\n",
       "      <td>Backspace</td>\n",
       "      <td>Backspace</td>\n",
       "      <td>q</td>\n",
       "      <td>q</td>\n",
       "      <td>q</td>\n",
       "    </tr>\n",
       "    <tr>\n",
       "      <th>ffbef7e5</th>\n",
       "      <td>Leftclick</td>\n",
       "      <td>Leftclick</td>\n",
       "      <td>Shift</td>\n",
       "      <td>q</td>\n",
       "      <td>q</td>\n",
       "      <td>q</td>\n",
       "      <td>q</td>\n",
       "      <td>Space</td>\n",
       "      <td>q</td>\n",
       "      <td>q</td>\n",
       "      <td>...</td>\n",
       "      <td>q</td>\n",
       "      <td>q</td>\n",
       "      <td>q</td>\n",
       "      <td>q</td>\n",
       "      <td>q</td>\n",
       "      <td>.</td>\n",
       "      <td>Space</td>\n",
       "      <td>Shift</td>\n",
       "      <td>q</td>\n",
       "      <td>Space</td>\n",
       "    </tr>\n",
       "    <tr>\n",
       "      <th>ffccd6fd</th>\n",
       "      <td>Leftclick</td>\n",
       "      <td>Leftclick</td>\n",
       "      <td>q</td>\n",
       "      <td>q</td>\n",
       "      <td>q</td>\n",
       "      <td>q</td>\n",
       "      <td>q</td>\n",
       "      <td>q</td>\n",
       "      <td>Space</td>\n",
       "      <td>q</td>\n",
       "      <td>...</td>\n",
       "      <td>Space</td>\n",
       "      <td>Space</td>\n",
       "      <td>Space</td>\n",
       "      <td>Space</td>\n",
       "      <td>Space</td>\n",
       "      <td>Space</td>\n",
       "      <td>Space</td>\n",
       "      <td>Space</td>\n",
       "      <td>Space</td>\n",
       "      <td>Space</td>\n",
       "    </tr>\n",
       "    <tr>\n",
       "      <th>ffec5b38</th>\n",
       "      <td>Leftclick</td>\n",
       "      <td>Shift</td>\n",
       "      <td>q</td>\n",
       "      <td>q</td>\n",
       "      <td>q</td>\n",
       "      <td>q</td>\n",
       "      <td>q</td>\n",
       "      <td>q</td>\n",
       "      <td>q</td>\n",
       "      <td>q</td>\n",
       "      <td>...</td>\n",
       "      <td>q</td>\n",
       "      <td>q</td>\n",
       "      <td>q</td>\n",
       "      <td>q</td>\n",
       "      <td>q</td>\n",
       "      <td>q</td>\n",
       "      <td>.</td>\n",
       "      <td>Space</td>\n",
       "      <td>Shift</td>\n",
       "      <td>Shift</td>\n",
       "    </tr>\n",
       "    <tr>\n",
       "      <th>fff05981</th>\n",
       "      <td>Leftclick</td>\n",
       "      <td>Leftclick</td>\n",
       "      <td>q</td>\n",
       "      <td>q</td>\n",
       "      <td>Space</td>\n",
       "      <td>q</td>\n",
       "      <td>q</td>\n",
       "      <td>q</td>\n",
       "      <td>q</td>\n",
       "      <td>Space</td>\n",
       "      <td>...</td>\n",
       "      <td>ArrowLeft</td>\n",
       "      <td>Space</td>\n",
       "      <td>q</td>\n",
       "      <td>q</td>\n",
       "      <td>q</td>\n",
       "      <td>Space</td>\n",
       "      <td>q</td>\n",
       "      <td>q</td>\n",
       "      <td>Space</td>\n",
       "      <td>q</td>\n",
       "    </tr>\n",
       "  </tbody>\n",
       "</table>\n",
       "<p>2471 rows × 1699 columns</p>\n",
       "</div>"
      ],
      "text/plain": [
       "event_id       1          2          3      4      5      6      7      8     \\\n",
       "id                                                                             \n",
       "001519c8  Leftclick  Leftclick      Shift      q      q      q      q      q   \n",
       "0022f953  Leftclick      Shift          q      q      q      q  Space      q   \n",
       "0042269b  Leftclick      Shift          q      q      q      q      q      q   \n",
       "0059420b  Leftclick  Leftclick      Shift  Shift  Shift  Shift  Shift  Shift   \n",
       "0075873a  Leftclick      Shift          q      q      q      q      q      q   \n",
       "...             ...        ...        ...    ...    ...    ...    ...    ...   \n",
       "ffb8c745  Leftclick        Tab  Leftclick  Space  Space  Space  Space  Space   \n",
       "ffbef7e5  Leftclick  Leftclick      Shift      q      q      q      q  Space   \n",
       "ffccd6fd  Leftclick  Leftclick          q      q      q      q      q      q   \n",
       "ffec5b38  Leftclick      Shift          q      q      q      q      q      q   \n",
       "fff05981  Leftclick  Leftclick          q      q  Space      q      q      q   \n",
       "\n",
       "event_id   9      10    ...       1690       1691       1692       1693  \\\n",
       "id                      ...                                               \n",
       "001519c8      q  Space  ...          q          q          q          q   \n",
       "0022f953      q  Space  ...      Shift          q          q          q   \n",
       "0042269b      q  Space  ...          q          q          q          q   \n",
       "0059420b  Shift  Shift  ...                                               \n",
       "0075873a      q      q  ...      Space          q          q          q   \n",
       "...         ...    ...  ...        ...        ...        ...        ...   \n",
       "ffb8c745  Shift      q  ...  Backspace  Backspace  Backspace  Backspace   \n",
       "ffbef7e5      q      q  ...          q          q          q          q   \n",
       "ffccd6fd  Space      q  ...      Space      Space      Space      Space   \n",
       "ffec5b38      q      q  ...          q          q          q          q   \n",
       "fff05981      q  Space  ...  ArrowLeft      Space          q          q   \n",
       "\n",
       "event_id       1694       1695       1696   1697   1698   1699  \n",
       "id                                                              \n",
       "001519c8          q      Space  Backspace      .  Space  Space  \n",
       "0022f953          q          q          q  Space      q      q  \n",
       "0042269b          q          q          q  Space      q      q  \n",
       "0059420b                                                        \n",
       "0075873a      Space          q          q      q      q      q  \n",
       "...             ...        ...        ...    ...    ...    ...  \n",
       "ffb8c745  Backspace  Backspace  Backspace      q      q      q  \n",
       "ffbef7e5          q          .      Space  Shift      q  Space  \n",
       "ffccd6fd      Space      Space      Space  Space  Space  Space  \n",
       "ffec5b38          q          q          .  Space  Shift  Shift  \n",
       "fff05981          q      Space          q      q  Space      q  \n",
       "\n",
       "[2471 rows x 1699 columns]"
      ]
     },
     "execution_count": 10,
     "metadata": {},
     "output_type": "execute_result"
    }
   ],
   "source": [
    "SEQ_LENGTH = 1700\n",
    "df_train_prepared_logs = df_train_logs[['id','event_id', 'up_event']][df_train_logs['event_id'] < SEQ_LENGTH]\n",
    "\n",
    "df_train_prepared_logs = pd.pivot_table(data= df_train_prepared_logs, index='id', columns='event_id', values='up_event', fill_value='', aggfunc='first')\n",
    "df_train_prepared_logs"
   ]
  },
  {
   "cell_type": "markdown",
   "id": "c629dc12",
   "metadata": {
    "papermill": {
     "duration": 0.012775,
     "end_time": "2023-12-31T19:04:16.704111",
     "exception": false,
     "start_time": "2023-12-31T19:04:16.691336",
     "status": "completed"
    },
    "tags": []
   },
   "source": [
    "Then, create a new column with the input text by concatening all event columns"
   ]
  },
  {
   "cell_type": "code",
   "execution_count": 11,
   "id": "98bdd00f",
   "metadata": {
    "execution": {
     "iopub.execute_input": "2023-12-31T19:04:16.732174Z",
     "iopub.status.busy": "2023-12-31T19:04:16.731456Z",
     "iopub.status.idle": "2023-12-31T19:04:22.777889Z",
     "shell.execute_reply": "2023-12-31T19:04:22.776947Z"
    },
    "papermill": {
     "duration": 6.062804,
     "end_time": "2023-12-31T19:04:22.780045",
     "exception": false,
     "start_time": "2023-12-31T19:04:16.717241",
     "status": "completed"
    },
    "tags": []
   },
   "outputs": [
    {
     "data": {
      "text/html": [
       "<div>\n",
       "<style scoped>\n",
       "    .dataframe tbody tr th:only-of-type {\n",
       "        vertical-align: middle;\n",
       "    }\n",
       "\n",
       "    .dataframe tbody tr th {\n",
       "        vertical-align: top;\n",
       "    }\n",
       "\n",
       "    .dataframe thead th {\n",
       "        text-align: right;\n",
       "    }\n",
       "</style>\n",
       "<table border=\"1\" class=\"dataframe\">\n",
       "  <thead>\n",
       "    <tr style=\"text-align: right;\">\n",
       "      <th>event_id</th>\n",
       "      <th>1</th>\n",
       "      <th>2</th>\n",
       "      <th>3</th>\n",
       "      <th>4</th>\n",
       "      <th>5</th>\n",
       "      <th>6</th>\n",
       "      <th>7</th>\n",
       "      <th>8</th>\n",
       "      <th>9</th>\n",
       "      <th>10</th>\n",
       "      <th>...</th>\n",
       "      <th>1691</th>\n",
       "      <th>1692</th>\n",
       "      <th>1693</th>\n",
       "      <th>1694</th>\n",
       "      <th>1695</th>\n",
       "      <th>1696</th>\n",
       "      <th>1697</th>\n",
       "      <th>1698</th>\n",
       "      <th>1699</th>\n",
       "      <th>text</th>\n",
       "    </tr>\n",
       "    <tr>\n",
       "      <th>id</th>\n",
       "      <th></th>\n",
       "      <th></th>\n",
       "      <th></th>\n",
       "      <th></th>\n",
       "      <th></th>\n",
       "      <th></th>\n",
       "      <th></th>\n",
       "      <th></th>\n",
       "      <th></th>\n",
       "      <th></th>\n",
       "      <th></th>\n",
       "      <th></th>\n",
       "      <th></th>\n",
       "      <th></th>\n",
       "      <th></th>\n",
       "      <th></th>\n",
       "      <th></th>\n",
       "      <th></th>\n",
       "      <th></th>\n",
       "      <th></th>\n",
       "      <th></th>\n",
       "    </tr>\n",
       "  </thead>\n",
       "  <tbody>\n",
       "    <tr>\n",
       "      <th>001519c8</th>\n",
       "      <td>Leftclick</td>\n",
       "      <td>Leftclick</td>\n",
       "      <td>Shift</td>\n",
       "      <td>q</td>\n",
       "      <td>q</td>\n",
       "      <td>q</td>\n",
       "      <td>q</td>\n",
       "      <td>q</td>\n",
       "      <td>q</td>\n",
       "      <td>Space</td>\n",
       "      <td>...</td>\n",
       "      <td>q</td>\n",
       "      <td>q</td>\n",
       "      <td>q</td>\n",
       "      <td>q</td>\n",
       "      <td>Space</td>\n",
       "      <td>Backspace</td>\n",
       "      <td>.</td>\n",
       "      <td>Space</td>\n",
       "      <td>Space</td>\n",
       "      <td>Leftclick Leftclick Shift q q q q q q Space q ...</td>\n",
       "    </tr>\n",
       "    <tr>\n",
       "      <th>0022f953</th>\n",
       "      <td>Leftclick</td>\n",
       "      <td>Shift</td>\n",
       "      <td>q</td>\n",
       "      <td>q</td>\n",
       "      <td>q</td>\n",
       "      <td>q</td>\n",
       "      <td>Space</td>\n",
       "      <td>q</td>\n",
       "      <td>q</td>\n",
       "      <td>Space</td>\n",
       "      <td>...</td>\n",
       "      <td>q</td>\n",
       "      <td>q</td>\n",
       "      <td>q</td>\n",
       "      <td>q</td>\n",
       "      <td>q</td>\n",
       "      <td>q</td>\n",
       "      <td>Space</td>\n",
       "      <td>q</td>\n",
       "      <td>q</td>\n",
       "      <td>Leftclick Shift q q q q Space q q Space Shift ...</td>\n",
       "    </tr>\n",
       "    <tr>\n",
       "      <th>0042269b</th>\n",
       "      <td>Leftclick</td>\n",
       "      <td>Shift</td>\n",
       "      <td>q</td>\n",
       "      <td>q</td>\n",
       "      <td>q</td>\n",
       "      <td>q</td>\n",
       "      <td>q</td>\n",
       "      <td>q</td>\n",
       "      <td>q</td>\n",
       "      <td>Space</td>\n",
       "      <td>...</td>\n",
       "      <td>q</td>\n",
       "      <td>q</td>\n",
       "      <td>q</td>\n",
       "      <td>q</td>\n",
       "      <td>q</td>\n",
       "      <td>q</td>\n",
       "      <td>Space</td>\n",
       "      <td>q</td>\n",
       "      <td>q</td>\n",
       "      <td>Leftclick Shift q q q q q q q Space q q q Spac...</td>\n",
       "    </tr>\n",
       "    <tr>\n",
       "      <th>0059420b</th>\n",
       "      <td>Leftclick</td>\n",
       "      <td>Leftclick</td>\n",
       "      <td>Shift</td>\n",
       "      <td>Shift</td>\n",
       "      <td>Shift</td>\n",
       "      <td>Shift</td>\n",
       "      <td>Shift</td>\n",
       "      <td>Shift</td>\n",
       "      <td>Shift</td>\n",
       "      <td>Shift</td>\n",
       "      <td>...</td>\n",
       "      <td></td>\n",
       "      <td></td>\n",
       "      <td></td>\n",
       "      <td></td>\n",
       "      <td></td>\n",
       "      <td></td>\n",
       "      <td></td>\n",
       "      <td></td>\n",
       "      <td></td>\n",
       "      <td>Leftclick Leftclick Shift Shift Shift Shift Sh...</td>\n",
       "    </tr>\n",
       "    <tr>\n",
       "      <th>0075873a</th>\n",
       "      <td>Leftclick</td>\n",
       "      <td>Shift</td>\n",
       "      <td>q</td>\n",
       "      <td>q</td>\n",
       "      <td>q</td>\n",
       "      <td>q</td>\n",
       "      <td>q</td>\n",
       "      <td>q</td>\n",
       "      <td>q</td>\n",
       "      <td>q</td>\n",
       "      <td>...</td>\n",
       "      <td>q</td>\n",
       "      <td>q</td>\n",
       "      <td>q</td>\n",
       "      <td>Space</td>\n",
       "      <td>q</td>\n",
       "      <td>q</td>\n",
       "      <td>q</td>\n",
       "      <td>q</td>\n",
       "      <td>q</td>\n",
       "      <td>Leftclick Shift q q q q q q q q q q q Space q ...</td>\n",
       "    </tr>\n",
       "    <tr>\n",
       "      <th>...</th>\n",
       "      <td>...</td>\n",
       "      <td>...</td>\n",
       "      <td>...</td>\n",
       "      <td>...</td>\n",
       "      <td>...</td>\n",
       "      <td>...</td>\n",
       "      <td>...</td>\n",
       "      <td>...</td>\n",
       "      <td>...</td>\n",
       "      <td>...</td>\n",
       "      <td>...</td>\n",
       "      <td>...</td>\n",
       "      <td>...</td>\n",
       "      <td>...</td>\n",
       "      <td>...</td>\n",
       "      <td>...</td>\n",
       "      <td>...</td>\n",
       "      <td>...</td>\n",
       "      <td>...</td>\n",
       "      <td>...</td>\n",
       "      <td>...</td>\n",
       "    </tr>\n",
       "    <tr>\n",
       "      <th>ffb8c745</th>\n",
       "      <td>Leftclick</td>\n",
       "      <td>Tab</td>\n",
       "      <td>Leftclick</td>\n",
       "      <td>Space</td>\n",
       "      <td>Space</td>\n",
       "      <td>Space</td>\n",
       "      <td>Space</td>\n",
       "      <td>Space</td>\n",
       "      <td>Shift</td>\n",
       "      <td>q</td>\n",
       "      <td>...</td>\n",
       "      <td>Backspace</td>\n",
       "      <td>Backspace</td>\n",
       "      <td>Backspace</td>\n",
       "      <td>Backspace</td>\n",
       "      <td>Backspace</td>\n",
       "      <td>Backspace</td>\n",
       "      <td>q</td>\n",
       "      <td>q</td>\n",
       "      <td>q</td>\n",
       "      <td>Leftclick Tab Leftclick Space Space Space Spac...</td>\n",
       "    </tr>\n",
       "    <tr>\n",
       "      <th>ffbef7e5</th>\n",
       "      <td>Leftclick</td>\n",
       "      <td>Leftclick</td>\n",
       "      <td>Shift</td>\n",
       "      <td>q</td>\n",
       "      <td>q</td>\n",
       "      <td>q</td>\n",
       "      <td>q</td>\n",
       "      <td>Space</td>\n",
       "      <td>q</td>\n",
       "      <td>q</td>\n",
       "      <td>...</td>\n",
       "      <td>q</td>\n",
       "      <td>q</td>\n",
       "      <td>q</td>\n",
       "      <td>q</td>\n",
       "      <td>.</td>\n",
       "      <td>Space</td>\n",
       "      <td>Shift</td>\n",
       "      <td>q</td>\n",
       "      <td>Space</td>\n",
       "      <td>Leftclick Leftclick Shift q q q q Space q q q ...</td>\n",
       "    </tr>\n",
       "    <tr>\n",
       "      <th>ffccd6fd</th>\n",
       "      <td>Leftclick</td>\n",
       "      <td>Leftclick</td>\n",
       "      <td>q</td>\n",
       "      <td>q</td>\n",
       "      <td>q</td>\n",
       "      <td>q</td>\n",
       "      <td>q</td>\n",
       "      <td>q</td>\n",
       "      <td>Space</td>\n",
       "      <td>q</td>\n",
       "      <td>...</td>\n",
       "      <td>Space</td>\n",
       "      <td>Space</td>\n",
       "      <td>Space</td>\n",
       "      <td>Space</td>\n",
       "      <td>Space</td>\n",
       "      <td>Space</td>\n",
       "      <td>Space</td>\n",
       "      <td>Space</td>\n",
       "      <td>Space</td>\n",
       "      <td>Leftclick Leftclick q q q q q q Space q q q q ...</td>\n",
       "    </tr>\n",
       "    <tr>\n",
       "      <th>ffec5b38</th>\n",
       "      <td>Leftclick</td>\n",
       "      <td>Shift</td>\n",
       "      <td>q</td>\n",
       "      <td>q</td>\n",
       "      <td>q</td>\n",
       "      <td>q</td>\n",
       "      <td>q</td>\n",
       "      <td>q</td>\n",
       "      <td>q</td>\n",
       "      <td>q</td>\n",
       "      <td>...</td>\n",
       "      <td>q</td>\n",
       "      <td>q</td>\n",
       "      <td>q</td>\n",
       "      <td>q</td>\n",
       "      <td>q</td>\n",
       "      <td>.</td>\n",
       "      <td>Space</td>\n",
       "      <td>Shift</td>\n",
       "      <td>Shift</td>\n",
       "      <td>Leftclick Shift q q q q q q q q Backspace q q ...</td>\n",
       "    </tr>\n",
       "    <tr>\n",
       "      <th>fff05981</th>\n",
       "      <td>Leftclick</td>\n",
       "      <td>Leftclick</td>\n",
       "      <td>q</td>\n",
       "      <td>q</td>\n",
       "      <td>Space</td>\n",
       "      <td>q</td>\n",
       "      <td>q</td>\n",
       "      <td>q</td>\n",
       "      <td>q</td>\n",
       "      <td>Space</td>\n",
       "      <td>...</td>\n",
       "      <td>Space</td>\n",
       "      <td>q</td>\n",
       "      <td>q</td>\n",
       "      <td>q</td>\n",
       "      <td>Space</td>\n",
       "      <td>q</td>\n",
       "      <td>q</td>\n",
       "      <td>Space</td>\n",
       "      <td>q</td>\n",
       "      <td>Leftclick Leftclick q q Space q q q q Space q ...</td>\n",
       "    </tr>\n",
       "  </tbody>\n",
       "</table>\n",
       "<p>2471 rows × 1700 columns</p>\n",
       "</div>"
      ],
      "text/plain": [
       "event_id          1          2          3      4      5      6      7      8  \\\n",
       "id                                                                             \n",
       "001519c8  Leftclick  Leftclick      Shift      q      q      q      q      q   \n",
       "0022f953  Leftclick      Shift          q      q      q      q  Space      q   \n",
       "0042269b  Leftclick      Shift          q      q      q      q      q      q   \n",
       "0059420b  Leftclick  Leftclick      Shift  Shift  Shift  Shift  Shift  Shift   \n",
       "0075873a  Leftclick      Shift          q      q      q      q      q      q   \n",
       "...             ...        ...        ...    ...    ...    ...    ...    ...   \n",
       "ffb8c745  Leftclick        Tab  Leftclick  Space  Space  Space  Space  Space   \n",
       "ffbef7e5  Leftclick  Leftclick      Shift      q      q      q      q  Space   \n",
       "ffccd6fd  Leftclick  Leftclick          q      q      q      q      q      q   \n",
       "ffec5b38  Leftclick      Shift          q      q      q      q      q      q   \n",
       "fff05981  Leftclick  Leftclick          q      q  Space      q      q      q   \n",
       "\n",
       "event_id      9     10  ...       1691       1692       1693       1694  \\\n",
       "id                      ...                                               \n",
       "001519c8      q  Space  ...          q          q          q          q   \n",
       "0022f953      q  Space  ...          q          q          q          q   \n",
       "0042269b      q  Space  ...          q          q          q          q   \n",
       "0059420b  Shift  Shift  ...                                               \n",
       "0075873a      q      q  ...          q          q          q      Space   \n",
       "...         ...    ...  ...        ...        ...        ...        ...   \n",
       "ffb8c745  Shift      q  ...  Backspace  Backspace  Backspace  Backspace   \n",
       "ffbef7e5      q      q  ...          q          q          q          q   \n",
       "ffccd6fd  Space      q  ...      Space      Space      Space      Space   \n",
       "ffec5b38      q      q  ...          q          q          q          q   \n",
       "fff05981      q  Space  ...      Space          q          q          q   \n",
       "\n",
       "event_id       1695       1696   1697   1698   1699  \\\n",
       "id                                                    \n",
       "001519c8      Space  Backspace      .  Space  Space   \n",
       "0022f953          q          q  Space      q      q   \n",
       "0042269b          q          q  Space      q      q   \n",
       "0059420b                                              \n",
       "0075873a          q          q      q      q      q   \n",
       "...             ...        ...    ...    ...    ...   \n",
       "ffb8c745  Backspace  Backspace      q      q      q   \n",
       "ffbef7e5          .      Space  Shift      q  Space   \n",
       "ffccd6fd      Space      Space  Space  Space  Space   \n",
       "ffec5b38          q          .  Space  Shift  Shift   \n",
       "fff05981      Space          q      q  Space      q   \n",
       "\n",
       "event_id                                               text  \n",
       "id                                                           \n",
       "001519c8  Leftclick Leftclick Shift q q q q q q Space q ...  \n",
       "0022f953  Leftclick Shift q q q q Space q q Space Shift ...  \n",
       "0042269b  Leftclick Shift q q q q q q q Space q q q Spac...  \n",
       "0059420b  Leftclick Leftclick Shift Shift Shift Shift Sh...  \n",
       "0075873a  Leftclick Shift q q q q q q q q q q q Space q ...  \n",
       "...                                                     ...  \n",
       "ffb8c745  Leftclick Tab Leftclick Space Space Space Spac...  \n",
       "ffbef7e5  Leftclick Leftclick Shift q q q q Space q q q ...  \n",
       "ffccd6fd  Leftclick Leftclick q q q q q q Space q q q q ...  \n",
       "ffec5b38  Leftclick Shift q q q q q q q q Backspace q q ...  \n",
       "fff05981  Leftclick Leftclick q q Space q q q q Space q ...  \n",
       "\n",
       "[2471 rows x 1700 columns]"
      ]
     },
     "execution_count": 11,
     "metadata": {},
     "output_type": "execute_result"
    }
   ],
   "source": [
    "df_train_prepared_logs[\"text\"] = \"\"\n",
    "for i in range(1, 1700):\n",
    "    df_train_prepared_logs[\"text\"] = df_train_prepared_logs[\"text\"] + \" \" + df_train_prepared_logs[i]\n",
    "\n",
    "df_train_prepared_logs[\"text\"] = df_train_prepared_logs[\"text\"].apply(lambda x : x.strip())\n",
    "df_train_prepared_logs"
   ]
  },
  {
   "cell_type": "markdown",
   "id": "31f4b2b2",
   "metadata": {
    "papermill": {
     "duration": 0.012986,
     "end_time": "2023-12-31T19:04:22.806537",
     "exception": false,
     "start_time": "2023-12-31T19:04:22.793551",
     "status": "completed"
    },
    "tags": []
   },
   "source": [
    "Create the `vocab` list and use the `TextVectorization` layer to convert each event into integer."
   ]
  },
  {
   "cell_type": "code",
   "execution_count": 12,
   "id": "cc249c63",
   "metadata": {
    "execution": {
     "iopub.execute_input": "2023-12-31T19:04:22.835652Z",
     "iopub.status.busy": "2023-12-31T19:04:22.834659Z",
     "iopub.status.idle": "2023-12-31T19:04:25.848616Z",
     "shell.execute_reply": "2023-12-31T19:04:25.847624Z"
    },
    "papermill": {
     "duration": 3.03099,
     "end_time": "2023-12-31T19:04:25.850879",
     "exception": false,
     "start_time": "2023-12-31T19:04:22.819889",
     "status": "completed"
    },
    "tags": []
   },
   "outputs": [
    {
     "data": {
      "text/plain": [
       "['',\n",
       " '[UNK]',\n",
       " 'q',\n",
       " 'Space',\n",
       " 'Backspace',\n",
       " 'Shift',\n",
       " 'ArrowRight',\n",
       " 'Leftclick',\n",
       " 'ArrowLeft',\n",
       " '.',\n",
       " ',',\n",
       " 'ArrowDown',\n",
       " 'ArrowUp',\n",
       " 'Enter',\n",
       " 'CapsLock',\n",
       " \"'\",\n",
       " 'Delete',\n",
       " 'Unidentified',\n",
       " 'Control',\n",
       " '\"',\n",
       " '-',\n",
       " '?',\n",
       " ';',\n",
       " '=',\n",
       " 'Tab',\n",
       " '/',\n",
       " 'Rightclick',\n",
       " ':',\n",
       " '(',\n",
       " ')',\n",
       " '\\\\',\n",
       " 'ContextMenu',\n",
       " 'End',\n",
       " '!',\n",
       " 'Meta',\n",
       " 'Alt',\n",
       " 'c',\n",
       " '[',\n",
       " 'v',\n",
       " 'NumLock',\n",
       " 'Insert',\n",
       " 'Home',\n",
       " 'z',\n",
       " 'a',\n",
       " 'AudioVolumeDown',\n",
       " 'F2',\n",
       " 'x',\n",
       " 't',\n",
       " 'AudioVolumeUp',\n",
       " '$',\n",
       " 'i',\n",
       " '>',\n",
       " ']',\n",
       " 's',\n",
       " '*',\n",
       " '%',\n",
       " 'w',\n",
       " '&',\n",
       " 'Dead',\n",
       " 'm',\n",
       " 'Escape',\n",
       " 'ModeChange',\n",
       " 'F3',\n",
       " '<',\n",
       " 'AudioVolumeMute',\n",
       " '+',\n",
       " 'o',\n",
       " 'F15',\n",
       " 'ScrollLock',\n",
       " 'PageDown',\n",
       " 'Process',\n",
       " 'h',\n",
       " 'b',\n",
       " 'e',\n",
       " 'p',\n",
       " '_',\n",
       " 'f',\n",
       " '{',\n",
       " 'PageUp',\n",
       " '`',\n",
       " 'r',\n",
       " '#',\n",
       " '0',\n",
       " '1',\n",
       " 'Middleclick',\n",
       " 'F12',\n",
       " '5',\n",
       " '\\x97',\n",
       " 'OS',\n",
       " '@',\n",
       " 'n',\n",
       " 'y',\n",
       " 'g',\n",
       " 'F11',\n",
       " 'Ä±',\n",
       " 'MediaTrackNext',\n",
       " 'l',\n",
       " 'Clear',\n",
       " 'MediaPlayPause',\n",
       " 'd',\n",
       " 'V',\n",
       " 'j',\n",
       " 'u',\n",
       " 'â\\x80\\x93',\n",
       " '}',\n",
       " '~',\n",
       " 'AltGraph',\n",
       " '2',\n",
       " '|',\n",
       " 'Unknownclick',\n",
       " 'A',\n",
       " 'MediaTrackPrevious',\n",
       " '^',\n",
       " '\\x96',\n",
       " '¿',\n",
       " '¡',\n",
       " 'M',\n",
       " 'S',\n",
       " 'T',\n",
       " 'Cancel',\n",
       " 'Ë\\x86',\n",
       " 'F10',\n",
       " '\\x80',\n",
       " 'C',\n",
       " 'Å\\x9f',\n",
       " '\\x9b',\n",
       " 'ä',\n",
       " 'F1',\n",
       " 'k',\n",
       " 'Pause',\n",
       " 'Â´',\n",
       " 'F6']"
      ]
     },
     "execution_count": 12,
     "metadata": {},
     "output_type": "execute_result"
    }
   ],
   "source": [
    "vocab = vocab_event.tolist()\n",
    "VOCAB_SIZE = len(vocab)\n",
    "\n",
    "# After this layer, we have a tensor of shape (batch_size, max_len) containing vocab indices.\n",
    "vectorize_layer = tf.keras.layers.TextVectorization(max_tokens = len(vocab) + 2,\n",
    "                                 output_mode='int',\n",
    "                                 standardize=None,\n",
    "                                 split=\"whitespace\",\n",
    "                                 vocabulary=vocab,\n",
    "                                 output_sequence_length=1700)\n",
    "\n",
    "vectorize_layer.get_vocabulary()"
   ]
  },
  {
   "cell_type": "code",
   "execution_count": 13,
   "id": "71e868f0",
   "metadata": {
    "execution": {
     "iopub.execute_input": "2023-12-31T19:04:25.942293Z",
     "iopub.status.busy": "2023-12-31T19:04:25.941513Z",
     "iopub.status.idle": "2023-12-31T19:04:26.714783Z",
     "shell.execute_reply": "2023-12-31T19:04:26.713944Z"
    },
    "papermill": {
     "duration": 0.790954,
     "end_time": "2023-12-31T19:04:26.717127",
     "exception": false,
     "start_time": "2023-12-31T19:04:25.926173",
     "status": "completed"
    },
    "tags": []
   },
   "outputs": [],
   "source": [
    "# Create the X and Y\n",
    "tokens_ids = vectorize_layer(df_train_prepared_logs[\"text\"])\n",
    "\n",
    "len_df_train = df_train_prepared_logs[\"text\"].shape[0]\n",
    "labels = tf.reshape(tf.convert_to_tensor(df_train_scores[\"score\"].values), (len_df_train, 1))\n"
   ]
  },
  {
   "cell_type": "markdown",
   "id": "85723b80",
   "metadata": {
    "execution": {
     "iopub.execute_input": "2023-10-12T18:51:21.198355Z",
     "iopub.status.busy": "2023-10-12T18:51:21.197999Z",
     "iopub.status.idle": "2023-10-12T18:51:21.2027Z",
     "shell.execute_reply": "2023-10-12T18:51:21.201517Z",
     "shell.execute_reply.started": "2023-10-12T18:51:21.198331Z"
    },
    "papermill": {
     "duration": 0.013919,
     "end_time": "2023-12-31T19:04:26.745377",
     "exception": false,
     "start_time": "2023-12-31T19:04:26.731458",
     "status": "completed"
    },
    "tags": []
   },
   "source": [
    "# Create the model"
   ]
  },
  {
   "cell_type": "code",
   "execution_count": 14,
   "id": "e7c8779a",
   "metadata": {
    "execution": {
     "iopub.execute_input": "2023-12-31T19:04:26.775081Z",
     "iopub.status.busy": "2023-12-31T19:04:26.774690Z",
     "iopub.status.idle": "2023-12-31T19:04:26.970652Z",
     "shell.execute_reply": "2023-12-31T19:04:26.969768Z"
    },
    "papermill": {
     "duration": 0.213203,
     "end_time": "2023-12-31T19:04:26.972705",
     "exception": false,
     "start_time": "2023-12-31T19:04:26.759502",
     "status": "completed"
    },
    "tags": []
   },
   "outputs": [
    {
     "data": {
      "text/html": [
       "<pre style=\"white-space:pre;overflow-x:auto;line-height:normal;font-family:Menlo,'DejaVu Sans Mono',consolas,'Courier New',monospace\"><span style=\"font-weight: bold\">Model: \"functional_1\"</span>\n",
       "</pre>\n"
      ],
      "text/plain": [
       "\u001b[1mModel: \"functional_1\"\u001b[0m\n"
      ]
     },
     "metadata": {},
     "output_type": "display_data"
    },
    {
     "data": {
      "text/html": [
       "<pre style=\"white-space:pre;overflow-x:auto;line-height:normal;font-family:Menlo,'DejaVu Sans Mono',consolas,'Courier New',monospace\">┏━━━━━━━━━━━━━━━━━━━━━━━━━━━━━━━━━┳━━━━━━━━━━━━━━━━━━━━━━━━━━━┳━━━━━━━━━━━━┓\n",
       "┃<span style=\"font-weight: bold\"> Layer (type)                    </span>┃<span style=\"font-weight: bold\"> Output Shape              </span>┃<span style=\"font-weight: bold\">    Param # </span>┃\n",
       "┡━━━━━━━━━━━━━━━━━━━━━━━━━━━━━━━━━╇━━━━━━━━━━━━━━━━━━━━━━━━━━━╇━━━━━━━━━━━━┩\n",
       "│ input_layer (<span style=\"color: #0087ff; text-decoration-color: #0087ff\">InputLayer</span>)        │ (<span style=\"color: #00d7ff; text-decoration-color: #00d7ff\">None</span>, <span style=\"color: #00af00; text-decoration-color: #00af00\">1700</span>)              │          <span style=\"color: #00af00; text-decoration-color: #00af00\">0</span> │\n",
       "├─────────────────────────────────┼───────────────────────────┼────────────┤\n",
       "│ token_and_position_embedding    │ (<span style=\"color: #00d7ff; text-decoration-color: #00d7ff\">None</span>, <span style=\"color: #00af00; text-decoration-color: #00af00\">1700</span>, <span style=\"color: #00af00; text-decoration-color: #00af00\">32</span>)          │     <span style=\"color: #00af00; text-decoration-color: #00af00\">58,560</span> │\n",
       "│ (<span style=\"color: #0087ff; text-decoration-color: #0087ff\">TokenAndPositionEmbedding</span>)     │                           │            │\n",
       "├─────────────────────────────────┼───────────────────────────┼────────────┤\n",
       "│ transformer_encoder             │ (<span style=\"color: #00d7ff; text-decoration-color: #00d7ff\">None</span>, <span style=\"color: #00af00; text-decoration-color: #00af00\">1700</span>, <span style=\"color: #00af00; text-decoration-color: #00af00\">32</span>)          │     <span style=\"color: #00af00; text-decoration-color: #00af00\">12,442</span> │\n",
       "│ (<span style=\"color: #0087ff; text-decoration-color: #0087ff\">TransformerEncoder</span>)            │                           │            │\n",
       "├─────────────────────────────────┼───────────────────────────┼────────────┤\n",
       "│ transformer_encoder_1           │ (<span style=\"color: #00d7ff; text-decoration-color: #00d7ff\">None</span>, <span style=\"color: #00af00; text-decoration-color: #00af00\">1700</span>, <span style=\"color: #00af00; text-decoration-color: #00af00\">32</span>)          │     <span style=\"color: #00af00; text-decoration-color: #00af00\">12,442</span> │\n",
       "│ (<span style=\"color: #0087ff; text-decoration-color: #0087ff\">TransformerEncoder</span>)            │                           │            │\n",
       "├─────────────────────────────────┼───────────────────────────┼────────────┤\n",
       "│ transformer_encoder_2           │ (<span style=\"color: #00d7ff; text-decoration-color: #00d7ff\">None</span>, <span style=\"color: #00af00; text-decoration-color: #00af00\">1700</span>, <span style=\"color: #00af00; text-decoration-color: #00af00\">32</span>)          │     <span style=\"color: #00af00; text-decoration-color: #00af00\">12,442</span> │\n",
       "│ (<span style=\"color: #0087ff; text-decoration-color: #0087ff\">TransformerEncoder</span>)            │                           │            │\n",
       "├─────────────────────────────────┼───────────────────────────┼────────────┤\n",
       "│ get_item (<span style=\"color: #0087ff; text-decoration-color: #0087ff\">GetItem</span>)              │ (<span style=\"color: #00d7ff; text-decoration-color: #00d7ff\">None</span>, <span style=\"color: #00af00; text-decoration-color: #00af00\">32</span>)                │          <span style=\"color: #00af00; text-decoration-color: #00af00\">0</span> │\n",
       "├─────────────────────────────────┼───────────────────────────┼────────────┤\n",
       "│ dense_6 (<span style=\"color: #0087ff; text-decoration-color: #0087ff\">Dense</span>)                 │ (<span style=\"color: #00d7ff; text-decoration-color: #00d7ff\">None</span>, <span style=\"color: #00af00; text-decoration-color: #00af00\">1</span>)                 │         <span style=\"color: #00af00; text-decoration-color: #00af00\">33</span> │\n",
       "└─────────────────────────────────┴───────────────────────────┴────────────┘\n",
       "</pre>\n"
      ],
      "text/plain": [
       "┏━━━━━━━━━━━━━━━━━━━━━━━━━━━━━━━━━┳━━━━━━━━━━━━━━━━━━━━━━━━━━━┳━━━━━━━━━━━━┓\n",
       "┃\u001b[1m \u001b[0m\u001b[1mLayer (type)                   \u001b[0m\u001b[1m \u001b[0m┃\u001b[1m \u001b[0m\u001b[1mOutput Shape             \u001b[0m\u001b[1m \u001b[0m┃\u001b[1m \u001b[0m\u001b[1m   Param #\u001b[0m\u001b[1m \u001b[0m┃\n",
       "┡━━━━━━━━━━━━━━━━━━━━━━━━━━━━━━━━━╇━━━━━━━━━━━━━━━━━━━━━━━━━━━╇━━━━━━━━━━━━┩\n",
       "│ input_layer (\u001b[38;5;33mInputLayer\u001b[0m)        │ (\u001b[38;5;45mNone\u001b[0m, \u001b[38;5;34m1700\u001b[0m)              │          \u001b[38;5;34m0\u001b[0m │\n",
       "├─────────────────────────────────┼───────────────────────────┼────────────┤\n",
       "│ token_and_position_embedding    │ (\u001b[38;5;45mNone\u001b[0m, \u001b[38;5;34m1700\u001b[0m, \u001b[38;5;34m32\u001b[0m)          │     \u001b[38;5;34m58,560\u001b[0m │\n",
       "│ (\u001b[38;5;33mTokenAndPositionEmbedding\u001b[0m)     │                           │            │\n",
       "├─────────────────────────────────┼───────────────────────────┼────────────┤\n",
       "│ transformer_encoder             │ (\u001b[38;5;45mNone\u001b[0m, \u001b[38;5;34m1700\u001b[0m, \u001b[38;5;34m32\u001b[0m)          │     \u001b[38;5;34m12,442\u001b[0m │\n",
       "│ (\u001b[38;5;33mTransformerEncoder\u001b[0m)            │                           │            │\n",
       "├─────────────────────────────────┼───────────────────────────┼────────────┤\n",
       "│ transformer_encoder_1           │ (\u001b[38;5;45mNone\u001b[0m, \u001b[38;5;34m1700\u001b[0m, \u001b[38;5;34m32\u001b[0m)          │     \u001b[38;5;34m12,442\u001b[0m │\n",
       "│ (\u001b[38;5;33mTransformerEncoder\u001b[0m)            │                           │            │\n",
       "├─────────────────────────────────┼───────────────────────────┼────────────┤\n",
       "│ transformer_encoder_2           │ (\u001b[38;5;45mNone\u001b[0m, \u001b[38;5;34m1700\u001b[0m, \u001b[38;5;34m32\u001b[0m)          │     \u001b[38;5;34m12,442\u001b[0m │\n",
       "│ (\u001b[38;5;33mTransformerEncoder\u001b[0m)            │                           │            │\n",
       "├─────────────────────────────────┼───────────────────────────┼────────────┤\n",
       "│ get_item (\u001b[38;5;33mGetItem\u001b[0m)              │ (\u001b[38;5;45mNone\u001b[0m, \u001b[38;5;34m32\u001b[0m)                │          \u001b[38;5;34m0\u001b[0m │\n",
       "├─────────────────────────────────┼───────────────────────────┼────────────┤\n",
       "│ dense_6 (\u001b[38;5;33mDense\u001b[0m)                 │ (\u001b[38;5;45mNone\u001b[0m, \u001b[38;5;34m1\u001b[0m)                 │         \u001b[38;5;34m33\u001b[0m │\n",
       "└─────────────────────────────────┴───────────────────────────┴────────────┘\n"
      ]
     },
     "metadata": {},
     "output_type": "display_data"
    },
    {
     "data": {
      "text/html": [
       "<pre style=\"white-space:pre;overflow-x:auto;line-height:normal;font-family:Menlo,'DejaVu Sans Mono',consolas,'Courier New',monospace\"><span style=\"font-weight: bold\"> Total params: </span><span style=\"color: #00af00; text-decoration-color: #00af00\">95,919</span> (374.68 KB)\n",
       "</pre>\n"
      ],
      "text/plain": [
       "\u001b[1m Total params: \u001b[0m\u001b[38;5;34m95,919\u001b[0m (374.68 KB)\n"
      ]
     },
     "metadata": {},
     "output_type": "display_data"
    },
    {
     "data": {
      "text/html": [
       "<pre style=\"white-space:pre;overflow-x:auto;line-height:normal;font-family:Menlo,'DejaVu Sans Mono',consolas,'Courier New',monospace\"><span style=\"font-weight: bold\"> Trainable params: </span><span style=\"color: #00af00; text-decoration-color: #00af00\">95,919</span> (374.68 KB)\n",
       "</pre>\n"
      ],
      "text/plain": [
       "\u001b[1m Trainable params: \u001b[0m\u001b[38;5;34m95,919\u001b[0m (374.68 KB)\n"
      ]
     },
     "metadata": {},
     "output_type": "display_data"
    },
    {
     "data": {
      "text/html": [
       "<pre style=\"white-space:pre;overflow-x:auto;line-height:normal;font-family:Menlo,'DejaVu Sans Mono',consolas,'Courier New',monospace\"><span style=\"font-weight: bold\"> Non-trainable params: </span><span style=\"color: #00af00; text-decoration-color: #00af00\">0</span> (0.00 B)\n",
       "</pre>\n"
      ],
      "text/plain": [
       "\u001b[1m Non-trainable params: \u001b[0m\u001b[38;5;34m0\u001b[0m (0.00 B)\n"
      ]
     },
     "metadata": {},
     "output_type": "display_data"
    }
   ],
   "source": [
    "token_id_input = keras.Input(\n",
    "    shape=(SEQ_LENGTH,),\n",
    "    dtype=\"int32\"\n",
    ")\n",
    "\n",
    "# A layer which sums a token and position embedding\n",
    "outputs_tok_pos_emb = keras_nlp.layers.TokenAndPositionEmbedding(\n",
    "    vocabulary_size=VOCAB_SIZE,\n",
    "    sequence_length=SEQ_LENGTH,\n",
    "    embedding_dim=32,\n",
    ")(token_id_input)\n",
    "\n",
    "# Follows the architecture of the transformer encoder layer in the paper Attention is All You Need.\n",
    "# Users can instantiate multiple instances of this class to stack up an encoder.\n",
    "outputs_transf_enc1 = keras_nlp.layers.TransformerEncoder(num_heads=6,\n",
    "                                                         intermediate_dim=128,\n",
    "                                                         dropout=0.1)(outputs_tok_pos_emb)\n",
    "outputs_transf_enc2 = keras_nlp.layers.TransformerEncoder(num_heads=6,\n",
    "                                                         intermediate_dim=128,\n",
    "                                                         dropout=0.1)(outputs_transf_enc1)\n",
    "outputs_transf_enc3 = keras_nlp.layers.TransformerEncoder(num_heads=6,\n",
    "                                                         intermediate_dim=128,\n",
    "                                                         dropout=0.1)(outputs_transf_enc2)\n",
    "\n",
    "# Add the classifier header\n",
    "outputs = keras.layers.Dense(1)(outputs_transf_enc3[:, 0, :])\n",
    "\n",
    "\n",
    "model = keras.Model(\n",
    "    inputs=token_id_input,\n",
    "    outputs=outputs,\n",
    ")\n",
    "\n",
    "model.summary()"
   ]
  },
  {
   "cell_type": "code",
   "execution_count": 15,
   "id": "d0d4b3cb",
   "metadata": {
    "execution": {
     "iopub.execute_input": "2023-12-31T19:04:27.003454Z",
     "iopub.status.busy": "2023-12-31T19:04:27.002822Z",
     "iopub.status.idle": "2023-12-31T19:14:11.612085Z",
     "shell.execute_reply": "2023-12-31T19:14:11.611153Z"
    },
    "papermill": {
     "duration": 584.626654,
     "end_time": "2023-12-31T19:14:11.613980",
     "exception": false,
     "start_time": "2023-12-31T19:04:26.987326",
     "status": "completed"
    },
    "tags": []
   },
   "outputs": [
    {
     "name": "stdout",
     "output_type": "stream",
     "text": [
      "Epoch 1/20\n",
      "\u001b[1m78/78\u001b[0m \u001b[32m━━━━━━━━━━━━━━━━━━━━\u001b[0m\u001b[37m\u001b[0m \u001b[1m70s\u001b[0m 514ms/step - loss: 2.7572 - root_mean_squared_error: 1.5890\n",
      "Epoch 2/20\n",
      "\u001b[1m78/78\u001b[0m \u001b[32m━━━━━━━━━━━━━━━━━━━━\u001b[0m\u001b[37m\u001b[0m \u001b[1m27s\u001b[0m 346ms/step - loss: 0.9930 - root_mean_squared_error: 0.9963\n",
      "Epoch 3/20\n",
      "\u001b[1m78/78\u001b[0m \u001b[32m━━━━━━━━━━━━━━━━━━━━\u001b[0m\u001b[37m\u001b[0m \u001b[1m27s\u001b[0m 346ms/step - loss: 0.8276 - root_mean_squared_error: 0.9096\n",
      "Epoch 4/20\n",
      "\u001b[1m78/78\u001b[0m \u001b[32m━━━━━━━━━━━━━━━━━━━━\u001b[0m\u001b[37m\u001b[0m \u001b[1m27s\u001b[0m 346ms/step - loss: 0.8054 - root_mean_squared_error: 0.8967\n",
      "Epoch 5/20\n",
      "\u001b[1m78/78\u001b[0m \u001b[32m━━━━━━━━━━━━━━━━━━━━\u001b[0m\u001b[37m\u001b[0m \u001b[1m27s\u001b[0m 346ms/step - loss: 0.7857 - root_mean_squared_error: 0.8860\n",
      "Epoch 6/20\n",
      "\u001b[1m78/78\u001b[0m \u001b[32m━━━━━━━━━━━━━━━━━━━━\u001b[0m\u001b[37m\u001b[0m \u001b[1m27s\u001b[0m 346ms/step - loss: 0.6879 - root_mean_squared_error: 0.8289\n",
      "Epoch 7/20\n",
      "\u001b[1m78/78\u001b[0m \u001b[32m━━━━━━━━━━━━━━━━━━━━\u001b[0m\u001b[37m\u001b[0m \u001b[1m27s\u001b[0m 346ms/step - loss: 0.5540 - root_mean_squared_error: 0.7443\n",
      "Epoch 8/20\n",
      "\u001b[1m78/78\u001b[0m \u001b[32m━━━━━━━━━━━━━━━━━━━━\u001b[0m\u001b[37m\u001b[0m \u001b[1m27s\u001b[0m 346ms/step - loss: 0.5003 - root_mean_squared_error: 0.7071\n",
      "Epoch 9/20\n",
      "\u001b[1m78/78\u001b[0m \u001b[32m━━━━━━━━━━━━━━━━━━━━\u001b[0m\u001b[37m\u001b[0m \u001b[1m27s\u001b[0m 346ms/step - loss: 0.4578 - root_mean_squared_error: 0.6765\n",
      "Epoch 10/20\n",
      "\u001b[1m78/78\u001b[0m \u001b[32m━━━━━━━━━━━━━━━━━━━━\u001b[0m\u001b[37m\u001b[0m \u001b[1m27s\u001b[0m 346ms/step - loss: 0.3900 - root_mean_squared_error: 0.6239\n",
      "Epoch 11/20\n",
      "\u001b[1m78/78\u001b[0m \u001b[32m━━━━━━━━━━━━━━━━━━━━\u001b[0m\u001b[37m\u001b[0m \u001b[1m27s\u001b[0m 346ms/step - loss: 0.4002 - root_mean_squared_error: 0.6325\n",
      "Epoch 12/20\n",
      "\u001b[1m78/78\u001b[0m \u001b[32m━━━━━━━━━━━━━━━━━━━━\u001b[0m\u001b[37m\u001b[0m \u001b[1m27s\u001b[0m 346ms/step - loss: 0.3637 - root_mean_squared_error: 0.6029\n",
      "Epoch 13/20\n",
      "\u001b[1m78/78\u001b[0m \u001b[32m━━━━━━━━━━━━━━━━━━━━\u001b[0m\u001b[37m\u001b[0m \u001b[1m27s\u001b[0m 346ms/step - loss: 0.3437 - root_mean_squared_error: 0.5858\n",
      "Epoch 14/20\n",
      "\u001b[1m78/78\u001b[0m \u001b[32m━━━━━━━━━━━━━━━━━━━━\u001b[0m\u001b[37m\u001b[0m \u001b[1m27s\u001b[0m 346ms/step - loss: 0.3196 - root_mean_squared_error: 0.5652\n",
      "Epoch 15/20\n",
      "\u001b[1m78/78\u001b[0m \u001b[32m━━━━━━━━━━━━━━━━━━━━\u001b[0m\u001b[37m\u001b[0m \u001b[1m27s\u001b[0m 346ms/step - loss: 0.2752 - root_mean_squared_error: 0.5245\n",
      "Epoch 16/20\n",
      "\u001b[1m78/78\u001b[0m \u001b[32m━━━━━━━━━━━━━━━━━━━━\u001b[0m\u001b[37m\u001b[0m \u001b[1m27s\u001b[0m 346ms/step - loss: 0.2679 - root_mean_squared_error: 0.5173\n",
      "Epoch 17/20\n",
      "\u001b[1m78/78\u001b[0m \u001b[32m━━━━━━━━━━━━━━━━━━━━\u001b[0m\u001b[37m\u001b[0m \u001b[1m27s\u001b[0m 346ms/step - loss: 0.2752 - root_mean_squared_error: 0.5244\n",
      "Epoch 18/20\n",
      "\u001b[1m78/78\u001b[0m \u001b[32m━━━━━━━━━━━━━━━━━━━━\u001b[0m\u001b[37m\u001b[0m \u001b[1m27s\u001b[0m 346ms/step - loss: 0.2322 - root_mean_squared_error: 0.4817\n",
      "Epoch 19/20\n",
      "\u001b[1m78/78\u001b[0m \u001b[32m━━━━━━━━━━━━━━━━━━━━\u001b[0m\u001b[37m\u001b[0m \u001b[1m27s\u001b[0m 346ms/step - loss: 0.2263 - root_mean_squared_error: 0.4755\n",
      "Epoch 20/20\n",
      "\u001b[1m78/78\u001b[0m \u001b[32m━━━━━━━━━━━━━━━━━━━━\u001b[0m\u001b[37m\u001b[0m \u001b[1m27s\u001b[0m 346ms/step - loss: 0.2003 - root_mean_squared_error: 0.4475\n"
     ]
    },
    {
     "data": {
      "text/plain": [
       "<keras_core.src.callbacks.history.History at 0x79e232605870>"
      ]
     },
     "execution_count": 15,
     "metadata": {},
     "output_type": "execute_result"
    }
   ],
   "source": [
    "model.compile(\n",
    "    loss=keras.losses.mean_squared_error,\n",
    "    optimizer=keras.optimizers.AdamW(5e-4),\n",
    "    metrics=['root_mean_squared_error'],\n",
    "    jit_compile=True,\n",
    ")\n",
    "\n",
    "model.fit(\n",
    "    batch_size=32,\n",
    "    shuffle=True,\n",
    "    x = tokens_ids,\n",
    "    y = labels,\n",
    "    epochs=20\n",
    ")"
   ]
  },
  {
   "cell_type": "code",
   "execution_count": 16,
   "id": "5f37163d",
   "metadata": {
    "execution": {
     "iopub.execute_input": "2023-12-31T19:14:11.887346Z",
     "iopub.status.busy": "2023-12-31T19:14:11.886969Z",
     "iopub.status.idle": "2023-12-31T19:14:14.574382Z",
     "shell.execute_reply": "2023-12-31T19:14:14.572840Z"
    },
    "papermill": {
     "duration": 2.827129,
     "end_time": "2023-12-31T19:14:14.576583",
     "exception": false,
     "start_time": "2023-12-31T19:14:11.749454",
     "status": "completed"
    },
    "tags": []
   },
   "outputs": [
    {
     "name": "stdout",
     "output_type": "stream",
     "text": [
      "\u001b[1m1/1\u001b[0m \u001b[32m━━━━━━━━━━━━━━━━━━━━\u001b[0m\u001b[37m\u001b[0m \u001b[1m2s\u001b[0m 2s/step\n",
      "[3.5] [[3.5782275]]\n",
      "\u001b[1m1/1\u001b[0m \u001b[32m━━━━━━━━━━━━━━━━━━━━\u001b[0m\u001b[37m\u001b[0m \u001b[1m0s\u001b[0m 56ms/step\n",
      "[3.5] [[3.5312595]]\n",
      "\u001b[1m1/1\u001b[0m \u001b[32m━━━━━━━━━━━━━━━━━━━━\u001b[0m\u001b[37m\u001b[0m \u001b[1m0s\u001b[0m 57ms/step\n",
      "[6.] [[4.910231]]\n",
      "\u001b[1m1/1\u001b[0m \u001b[32m━━━━━━━━━━━━━━━━━━━━\u001b[0m\u001b[37m\u001b[0m \u001b[1m0s\u001b[0m 55ms/step\n",
      "[2.] [[1.9196856]]\n",
      "\u001b[1m1/1\u001b[0m \u001b[32m━━━━━━━━━━━━━━━━━━━━\u001b[0m\u001b[37m\u001b[0m \u001b[1m0s\u001b[0m 54ms/step\n",
      "[4.] [[3.8896873]]\n",
      "\u001b[1m1/1\u001b[0m \u001b[32m━━━━━━━━━━━━━━━━━━━━\u001b[0m\u001b[37m\u001b[0m \u001b[1m0s\u001b[0m 52ms/step\n",
      "[2.] [[1.8595345]]\n",
      "\u001b[1m1/1\u001b[0m \u001b[32m━━━━━━━━━━━━━━━━━━━━\u001b[0m\u001b[37m\u001b[0m \u001b[1m0s\u001b[0m 52ms/step\n",
      "[4.5] [[4.5046444]]\n",
      "\u001b[1m1/1\u001b[0m \u001b[32m━━━━━━━━━━━━━━━━━━━━\u001b[0m\u001b[37m\u001b[0m \u001b[1m0s\u001b[0m 50ms/step\n",
      "[4.] [[3.9881804]]\n",
      "\u001b[1m1/1\u001b[0m \u001b[32m━━━━━━━━━━━━━━━━━━━━\u001b[0m\u001b[37m\u001b[0m \u001b[1m0s\u001b[0m 51ms/step\n",
      "[3.5] [[2.9294174]]\n",
      "\u001b[1m1/1\u001b[0m \u001b[32m━━━━━━━━━━━━━━━━━━━━\u001b[0m\u001b[37m\u001b[0m \u001b[1m0s\u001b[0m 56ms/step\n",
      "[4.5] [[4.7154827]]\n",
      "\u001b[1m1/1\u001b[0m \u001b[32m━━━━━━━━━━━━━━━━━━━━\u001b[0m\u001b[37m\u001b[0m \u001b[1m0s\u001b[0m 73ms/step\n",
      "[4.5] [[4.412231]]\n",
      "\u001b[1m1/1\u001b[0m \u001b[32m━━━━━━━━━━━━━━━━━━━━\u001b[0m\u001b[37m\u001b[0m \u001b[1m0s\u001b[0m 62ms/step\n",
      "[2.5] [[2.5289905]]\n",
      "\u001b[1m1/1\u001b[0m \u001b[32m━━━━━━━━━━━━━━━━━━━━\u001b[0m\u001b[37m\u001b[0m \u001b[1m0s\u001b[0m 65ms/step\n",
      "[4.5] [[4.3954067]]\n",
      "\u001b[1m1/1\u001b[0m \u001b[32m━━━━━━━━━━━━━━━━━━━━\u001b[0m\u001b[37m\u001b[0m \u001b[1m0s\u001b[0m 61ms/step\n",
      "[3.5] [[3.7337399]]\n",
      "\u001b[1m1/1\u001b[0m \u001b[32m━━━━━━━━━━━━━━━━━━━━\u001b[0m\u001b[37m\u001b[0m \u001b[1m0s\u001b[0m 80ms/step\n",
      "[2.5] [[2.0748615]]\n"
     ]
    }
   ],
   "source": [
    "for tok, lbl, idx in zip(tokens_ids, labels, range(15)):\n",
    "    print(lbl.numpy(), model.predict(tf.expand_dims(tok, axis=0)))"
   ]
  },
  {
   "cell_type": "markdown",
   "id": "b51b2c13",
   "metadata": {
    "papermill": {
     "duration": 0.144159,
     "end_time": "2023-12-31T19:14:14.870130",
     "exception": false,
     "start_time": "2023-12-31T19:14:14.725971",
     "status": "completed"
    },
    "tags": []
   },
   "source": []
  },
  {
   "cell_type": "markdown",
   "id": "6337019b",
   "metadata": {
    "papermill": {
     "duration": 0.143158,
     "end_time": "2023-12-31T19:14:15.157140",
     "exception": false,
     "start_time": "2023-12-31T19:14:15.013982",
     "status": "completed"
    },
    "tags": []
   },
   "source": [
    "# Generate the submission file\n",
    "\n",
    "Let's prepare the test data and do the predictions"
   ]
  },
  {
   "cell_type": "code",
   "execution_count": 17,
   "id": "cd3364a1",
   "metadata": {
    "execution": {
     "iopub.execute_input": "2023-12-31T19:14:15.445644Z",
     "iopub.status.busy": "2023-12-31T19:14:15.444747Z",
     "iopub.status.idle": "2023-12-31T19:14:15.474835Z",
     "shell.execute_reply": "2023-12-31T19:14:15.473856Z"
    },
    "papermill": {
     "duration": 0.175869,
     "end_time": "2023-12-31T19:14:15.476944",
     "exception": false,
     "start_time": "2023-12-31T19:14:15.301075",
     "status": "completed"
    },
    "tags": []
   },
   "outputs": [
    {
     "data": {
      "text/plain": [
       "<tf.Tensor: shape=(3, 1700), dtype=int64, numpy=\n",
       "array([[3, 3, 0, ..., 0, 0, 0],\n",
       "       [2, 2, 0, ..., 0, 0, 0],\n",
       "       [3, 2, 0, ..., 0, 0, 0]])>"
      ]
     },
     "execution_count": 17,
     "metadata": {},
     "output_type": "execute_result"
    }
   ],
   "source": [
    "df_test_prepared_logs = pd.pivot_table(data= df_test_logs, index='id', columns='event_id', values='up_event', fill_value='', aggfunc='first')\n",
    "\n",
    "df_test_prepared_logs[\"text\"] = \"\"\n",
    "for i in range(1, 3):\n",
    "    df_test_prepared_logs[\"text\"] = df_test_prepared_logs[\"text\"] + \" \" + df_test_prepared_logs[i]\n",
    "\n",
    "df_test_prepared_logs[\"text\"] = df_test_prepared_logs[\"text\"].apply(lambda x : x.strip())\n",
    "\n",
    "test_token_ids = vectorize_layer(df_test_prepared_logs[\"text\"])\n",
    "test_token_ids"
   ]
  },
  {
   "cell_type": "code",
   "execution_count": 18,
   "id": "eec7e622",
   "metadata": {
    "execution": {
     "iopub.execute_input": "2023-12-31T19:14:15.765203Z",
     "iopub.status.busy": "2023-12-31T19:14:15.764422Z",
     "iopub.status.idle": "2023-12-31T19:14:17.780024Z",
     "shell.execute_reply": "2023-12-31T19:14:17.779105Z"
    },
    "papermill": {
     "duration": 2.16182,
     "end_time": "2023-12-31T19:14:17.782009",
     "exception": false,
     "start_time": "2023-12-31T19:14:15.620189",
     "status": "completed"
    },
    "tags": []
   },
   "outputs": [
    {
     "name": "stdout",
     "output_type": "stream",
     "text": [
      "\u001b[1m1/1\u001b[0m \u001b[32m━━━━━━━━━━━━━━━━━━━━\u001b[0m\u001b[37m\u001b[0m \u001b[1m2s\u001b[0m 2s/step\n"
     ]
    }
   ],
   "source": [
    "predictions = model.predict(test_token_ids)"
   ]
  },
  {
   "cell_type": "code",
   "execution_count": 19,
   "id": "738159c9",
   "metadata": {
    "execution": {
     "iopub.execute_input": "2023-12-31T19:14:18.067391Z",
     "iopub.status.busy": "2023-12-31T19:14:18.067031Z",
     "iopub.status.idle": "2023-12-31T19:14:18.072612Z",
     "shell.execute_reply": "2023-12-31T19:14:18.071713Z"
    },
    "papermill": {
     "duration": 0.150154,
     "end_time": "2023-12-31T19:14:18.074743",
     "exception": false,
     "start_time": "2023-12-31T19:14:17.924589",
     "status": "completed"
    },
    "tags": []
   },
   "outputs": [],
   "source": [
    "submission = pd.DataFrame({'id': df_test_prepared_logs.index.values, 'score' : np.squeeze(predictions)})"
   ]
  },
  {
   "cell_type": "code",
   "execution_count": 20,
   "id": "294abfc8",
   "metadata": {
    "execution": {
     "iopub.execute_input": "2023-12-31T19:14:18.357169Z",
     "iopub.status.busy": "2023-12-31T19:14:18.356771Z",
     "iopub.status.idle": "2023-12-31T19:14:18.364067Z",
     "shell.execute_reply": "2023-12-31T19:14:18.363298Z"
    },
    "papermill": {
     "duration": 0.150505,
     "end_time": "2023-12-31T19:14:18.365916",
     "exception": false,
     "start_time": "2023-12-31T19:14:18.215411",
     "status": "completed"
    },
    "tags": []
   },
   "outputs": [],
   "source": [
    "submission.to_csv(\"submission.csv\", index=False)"
   ]
  },
  {
   "cell_type": "code",
   "execution_count": null,
   "id": "887c67da",
   "metadata": {
    "papermill": {
     "duration": 0.141469,
     "end_time": "2023-12-31T19:14:18.649186",
     "exception": false,
     "start_time": "2023-12-31T19:14:18.507717",
     "status": "completed"
    },
    "tags": []
   },
   "outputs": [],
   "source": []
  }
 ],
 "metadata": {
  "kaggle": {
   "accelerator": "gpu",
   "dataSources": [
    {
     "databundleVersionId": 6678907,
     "sourceId": 59291,
     "sourceType": "competition"
    }
   ],
   "dockerImageVersionId": 30559,
   "isGpuEnabled": true,
   "isInternetEnabled": false,
   "language": "python",
   "sourceType": "notebook"
  },
  "kernelspec": {
   "display_name": "Python 3",
   "language": "python",
   "name": "python3"
  },
  "language_info": {
   "codemirror_mode": {
    "name": "ipython",
    "version": 3
   },
   "file_extension": ".py",
   "mimetype": "text/x-python",
   "name": "python",
   "nbconvert_exporter": "python",
   "pygments_lexer": "ipython3",
   "version": "3.11.6"
  },
  "papermill": {
   "default_parameters": {},
   "duration": 867.950154,
   "end_time": "2023-12-31T19:14:21.969194",
   "environment_variables": {},
   "exception": null,
   "input_path": "__notebook__.ipynb",
   "output_path": "__notebook__.ipynb",
   "parameters": {},
   "start_time": "2023-12-31T18:59:54.019040",
   "version": "2.4.0"
  }
 },
 "nbformat": 4,
 "nbformat_minor": 5
}
